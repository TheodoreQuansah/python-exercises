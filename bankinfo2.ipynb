{
 "cells": [
  {
   "cell_type": "code",
   "execution_count": 3,
   "id": "34d2ed6c-78a2-4f5f-934d-453870fa14e5",
   "metadata": {},
   "outputs": [
    {
     "name": "stdout",
     "output_type": "stream",
     "text": [
      "Welcome to the Banking Application!\n",
      "\n",
      "Please select an action:\n",
      "1. View current balance\n",
      "2. Add a debit (withdrawal)\n",
      "3. Add a credit (deposit)\n",
      "4. Exit\n"
     ]
    },
    {
     "name": "stdin",
     "output_type": "stream",
     "text": [
      "Enter your choice (1-4):  1\n"
     ]
    },
    {
     "name": "stdout",
     "output_type": "stream",
     "text": [
      "Current Balance: $1,000,000,000,000.00\n",
      "\n",
      "Please select an action:\n",
      "1. View current balance\n",
      "2. Add a debit (withdrawal)\n",
      "3. Add a credit (deposit)\n",
      "4. Exit\n"
     ]
    },
    {
     "name": "stdin",
     "output_type": "stream",
     "text": [
      "Enter your choice (1-4):  4\n"
     ]
    },
    {
     "name": "stdout",
     "output_type": "stream",
     "text": [
      "Thank you for using the Banking Application. Goodbye!\n"
     ]
    }
   ],
   "source": [
    "import json\n",
    "import os\n",
    "\n",
    "# Function to save the account details to a JSON file\n",
    "def save_accounts(accounts):\n",
    "    with open('accounts.json', 'w') as file:\n",
    "        json.dump(accounts, file)\n",
    "\n",
    "# Function to load the account details from a JSON file\n",
    "def load_accounts():\n",
    "    if os.path.exists('accounts.json'):\n",
    "        with open('accounts.json', 'r') as file:\n",
    "            return json.load(file)\n",
    "    else:\n",
    "        return []\n",
    "\n",
    "# Function to display the current balance\n",
    "def view_balance():\n",
    "    accounts = load_accounts()\n",
    "    if accounts:\n",
    "        balance = accounts[0]['balance']\n",
    "        print(f\"Current Balance: {balance}\")\n",
    "    else:\n",
    "        print(\"No account details found.\")\n",
    "\n",
    "# Function to add a debit (withdrawal)\n",
    "def add_debit():\n",
    "    accounts = load_accounts()\n",
    "    if accounts:\n",
    "        balance = float(accounts[0]['balance'].replace('$', '').replace(',', ''))\n",
    "        amount = float(input(\"Enter the debit amount: $\"))\n",
    "        if amount <= balance:\n",
    "            balance -= amount\n",
    "            accounts[0]['balance'] = f\"${balance:,.2f}\"\n",
    "            save_accounts(accounts)\n",
    "            print(f\"Debit of ${amount:.2f} has been processed.\")\n",
    "        else:\n",
    "            print(\"Insufficient funds.\")\n",
    "    else:\n",
    "        print(\"No account details found.\")\n",
    "\n",
    "# Function to add a credit (deposit)\n",
    "def add_credit():\n",
    "    accounts = load_accounts()\n",
    "    if accounts:\n",
    "        balance = float(accounts[0]['balance'].replace('$', '').replace(',', ''))\n",
    "        amount = float(input(\"Enter the credit amount: $\"))\n",
    "        balance += amount\n",
    "        accounts[0]['balance'] = f\"${balance:,.2f}\"\n",
    "        save_accounts(accounts)\n",
    "        print(f\"Credit of ${amount:.2f} has been processed.\")\n",
    "    else:\n",
    "        print(\"No account details found.\")\n",
    "\n",
    "# Main function to run the application\n",
    "def main():\n",
    "    print(\"Welcome to the Banking Application!\")\n",
    "\n",
    "    while True:\n",
    "        print(\"\\nPlease select an action:\")\n",
    "        print(\"1. View current balance\")\n",
    "        print(\"2. Add a debit (withdrawal)\")\n",
    "        print(\"3. Add a credit (deposit)\")\n",
    "        print(\"4. Exit\")\n",
    "\n",
    "        choice = input(\"Enter your choice (1-4): \")\n",
    "\n",
    "        if choice == \"1\":\n",
    "            view_balance()\n",
    "        elif choice == \"2\":\n",
    "            add_debit()\n",
    "        elif choice == \"3\":\n",
    "            add_credit()\n",
    "        elif choice == \"4\":\n",
    "            print(\"Thank you for using the Banking Application. Goodbye!\")\n",
    "            break\n",
    "        else:\n",
    "            print(\"Invalid choice. Please try again.\")\n",
    "\n",
    "if __name__ == \"__main__\":\n",
    "    accounts = [{'account_number': '111', 'first': 'Nikki', 'last': 'Meyer', 'balance': '$1,000,000,000,000.00'}]\n",
    "    save_accounts(accounts)\n",
    "    main()"
   ]
  }
 ],
 "metadata": {
  "kernelspec": {
   "display_name": "Python 3 (ipykernel)",
   "language": "python",
   "name": "python3"
  },
  "language_info": {
   "codemirror_mode": {
    "name": "ipython",
    "version": 3
   },
   "file_extension": ".py",
   "mimetype": "text/x-python",
   "name": "python",
   "nbconvert_exporter": "python",
   "pygments_lexer": "ipython3",
   "version": "3.10.9"
  }
 },
 "nbformat": 4,
 "nbformat_minor": 5
}
