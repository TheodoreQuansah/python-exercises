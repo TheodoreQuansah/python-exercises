{
 "cells": [
  {
   "cell_type": "markdown",
   "id": "d4dfdbb5-23c7-4ea1-a7fd-033dd1a59898",
   "metadata": {},
   "source": [
    "Define a function named is_two. It should accept one input and return True if the passed input is either the number or the string 2, False otherwise."
   ]
  },
  {
   "cell_type": "code",
   "execution_count": 23,
   "id": "2be5e6e1-9d7c-4e3e-8866-6224076c38a9",
   "metadata": {},
   "outputs": [],
   "source": [
    "def is_two(x):\n",
    "    \n",
    "    if x == '2':\n",
    "    \n",
    "        print(True)\n",
    "    \n",
    "    else:\n",
    "        \n",
    "        print(False)"
   ]
  },
  {
   "cell_type": "code",
   "execution_count": 25,
   "id": "78a0841c",
   "metadata": {},
   "outputs": [
    {
     "name": "stdout",
     "output_type": "stream",
     "text": [
      "Enter an integer: 3\n",
      "False\n"
     ]
    }
   ],
   "source": [
    "is_two(input('Enter an integer: '))"
   ]
  },
  {
   "cell_type": "markdown",
   "id": "34a16b11-113c-4760-84d0-2f245756f308",
   "metadata": {},
   "source": [
    "Define a function named is_vowel. It should return True if the passed string is a vowel, False otherwise."
   ]
  },
  {
   "cell_type": "code",
   "execution_count": 59,
   "id": "d5d3fa64-5845-4815-bcee-b9db7bc9996d",
   "metadata": {},
   "outputs": [],
   "source": [
    "def isVowel(vow):\n",
    "    \n",
    "    if vow.lower() in 'aeiou':\n",
    "        \n",
    "        print(True)\n",
    "        \n",
    "    else:\n",
    "        \n",
    "        print('False')"
   ]
  },
  {
   "cell_type": "code",
   "execution_count": 60,
   "id": "21a54a6d",
   "metadata": {
    "scrolled": true
   },
   "outputs": [
    {
     "name": "stdout",
     "output_type": "stream",
     "text": [
      "Enter an integer: p\n",
      "False\n"
     ]
    }
   ],
   "source": [
    "isVowel(input('Enter an integer: '))"
   ]
  },
  {
   "cell_type": "markdown",
   "id": "66ace471",
   "metadata": {},
   "source": [
    "Define a function named is_consonant. It should return True if the passed string is a consonant, False otherwise. Use your is_vowel function to accomplish this."
   ]
  },
  {
   "cell_type": "code",
   "execution_count": 50,
   "id": "0d5b7dcb",
   "metadata": {},
   "outputs": [],
   "source": [
    "def is_consonant(con):\n",
    "    \n",
    "    if con.lower() in 'bcdfghijklmnpqrstvwxyz':\n",
    "        \n",
    "        print(True)\n",
    "        \n",
    "    else:\n",
    "        \n",
    "        print(False)"
   ]
  },
  {
   "cell_type": "code",
   "execution_count": 52,
   "id": "5ef1353c",
   "metadata": {},
   "outputs": [
    {
     "name": "stdout",
     "output_type": "stream",
     "text": [
      "Enter an integer: o\n",
      "False\n"
     ]
    }
   ],
   "source": [
    "is_consonant(input('Enter an integer: '))"
   ]
  },
  {
   "cell_type": "markdown",
   "id": "a585140b",
   "metadata": {},
   "source": [
    "Define a function that accepts a string that is a word. The function should capitalize the first letter of the word if the word starts with a consonant."
   ]
  },
  {
   "cell_type": "code",
   "execution_count": 96,
   "id": "5dd8fe40",
   "metadata": {},
   "outputs": [],
   "source": [
    "def word(cat):\n",
    "    \n",
    "    cat = input('Enter a word: ')\n",
    "    \n",
    "    if cat[0] in 'bcdfghijklmnpqrstvwxyz':\n",
    "        \n",
    "        print ((cat.capitalize()))\n"
   ]
  },
  {
   "cell_type": "code",
   "execution_count": 98,
   "id": "649b0cb8",
   "metadata": {},
   "outputs": [
    {
     "name": "stdout",
     "output_type": "stream",
     "text": [
      "Enter a word: money\n",
      "Money\n"
     ]
    }
   ],
   "source": [
    "word('cat')"
   ]
  },
  {
   "cell_type": "markdown",
   "id": "7cf564b1",
   "metadata": {},
   "source": [
    "Define a function named calculate_tip. It should accept a tip percentage (a number between 0 and 1) and the bill total, and return the amount to tip."
   ]
  },
  {
   "cell_type": "code",
   "execution_count": 202,
   "id": "0f8f75d0",
   "metadata": {},
   "outputs": [],
   "source": [
    "def calculate_tip():\n",
    "    \n",
    "    n = int(input('Enter an int: '))\n",
    "    \n",
    "    x = float(input('Enter an int: '))\n",
    "    \n",
    "    print(n * x)\n",
    "        \n",
    "\n",
    "    \n",
    "    \n",
    "    \n",
    "    \n",
    "    "
   ]
  },
  {
   "cell_type": "code",
   "execution_count": 203,
   "id": "b2937fb2",
   "metadata": {},
   "outputs": [
    {
     "name": "stdout",
     "output_type": "stream",
     "text": [
      "Enter an int: 1000\n",
      "Enter an int: 0.4\n",
      "400.0\n"
     ]
    }
   ],
   "source": [
    "calculate_tip()"
   ]
  },
  {
   "cell_type": "markdown",
   "id": "a4f8beb9",
   "metadata": {},
   "source": [
    "Define a function named apply_discount. It should accept a original price, and a discount percentage, and return the price after the discount is applied."
   ]
  },
  {
   "cell_type": "code",
   "execution_count": 211,
   "id": "3110ed17",
   "metadata": {},
   "outputs": [],
   "source": [
    "def apply_discount():\n",
    "    \n",
    "    n = int(input('Enter an int: '))\n",
    "    \n",
    "    x = float(input('Enter an int: '))\n",
    "    \n",
    "    return(n * x) + (n)\n",
    "\n",
    "\n",
    "\n",
    "\n",
    "\n"
   ]
  },
  {
   "cell_type": "code",
   "execution_count": 212,
   "id": "6dd3f7dd",
   "metadata": {},
   "outputs": [
    {
     "name": "stdout",
     "output_type": "stream",
     "text": [
      "Enter an int: 200\n",
      "Enter an int: 0.5\n"
     ]
    },
    {
     "data": {
      "text/plain": [
       "300.0"
      ]
     },
     "execution_count": 212,
     "metadata": {},
     "output_type": "execute_result"
    }
   ],
   "source": [
    "apply_discount()"
   ]
  },
  {
   "cell_type": "markdown",
   "id": "83d4655d",
   "metadata": {},
   "source": [
    "Define a function named handle_commas. It should accept a string that is a number that contains commas in it as input, and return a number as output."
   ]
  },
  {
   "cell_type": "code",
   "execution_count": 220,
   "id": "8e2a0605",
   "metadata": {},
   "outputs": [],
   "source": [
    "def handle_commas():\n",
    "    n = int(input('Enter an int: '))\n",
    "    "
   ]
  },
  {
   "cell_type": "code",
   "execution_count": null,
   "id": "c6518b32",
   "metadata": {},
   "outputs": [],
   "source": []
  },
  {
   "cell_type": "code",
   "execution_count": null,
   "id": "60f9f53a",
   "metadata": {},
   "outputs": [],
   "source": []
  },
  {
   "cell_type": "code",
   "execution_count": null,
   "id": "b03f9f6f",
   "metadata": {},
   "outputs": [],
   "source": []
  },
  {
   "cell_type": "code",
   "execution_count": null,
   "id": "a35e51bd",
   "metadata": {},
   "outputs": [],
   "source": []
  },
  {
   "cell_type": "code",
   "execution_count": null,
   "id": "d182a5c1",
   "metadata": {},
   "outputs": [],
   "source": []
  }
 ],
 "metadata": {
  "kernelspec": {
   "display_name": "Python 3 (ipykernel)",
   "language": "python",
   "name": "python3"
  },
  "language_info": {
   "codemirror_mode": {
    "name": "ipython",
    "version": 3
   },
   "file_extension": ".py",
   "mimetype": "text/x-python",
   "name": "python",
   "nbconvert_exporter": "python",
   "pygments_lexer": "ipython3",
   "version": "3.10.9"
  }
 },
 "nbformat": 4,
 "nbformat_minor": 5
}
