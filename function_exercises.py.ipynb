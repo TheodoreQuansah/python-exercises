{
 "cells": [
  {
   "cell_type": "markdown",
   "id": "d4dfdbb5-23c7-4ea1-a7fd-033dd1a59898",
   "metadata": {},
   "source": [
    "Define a function named is_two. It should accept one input and return True if the passed input is either the number or the string 2, False otherwise."
   ]
  },
  {
   "cell_type": "code",
   "execution_count": 43,
   "id": "2be5e6e1-9d7c-4e3e-8866-6224076c38a9",
   "metadata": {},
   "outputs": [],
   "source": [
    "def is_two(x):\n",
    "\n",
    "    if x == '2':\n",
    "    \n",
    "        print(True)\n",
    "    \n",
    "    else:\n",
    "        \n",
    "        print(False)"
   ]
  },
  {
   "cell_type": "code",
   "execution_count": 44,
   "id": "78a0841c",
   "metadata": {},
   "outputs": [
    {
     "name": "stdout",
     "output_type": "stream",
     "text": [
      "Enter an integer: 2\n",
      "True\n"
     ]
    }
   ],
   "source": [
    "is_two(input('Enter an integer: '))"
   ]
  },
  {
   "cell_type": "markdown",
   "id": "34a16b11-113c-4760-84d0-2f245756f308",
   "metadata": {},
   "source": [
    "Define a function named is_vowel. It should return True if the passed string is a vowel, False otherwise."
   ]
  },
  {
   "cell_type": "code",
   "execution_count": 3,
   "id": "d5d3fa64-5845-4815-bcee-b9db7bc9996d",
   "metadata": {},
   "outputs": [],
   "source": [
    "def isVowel(vow):\n",
    "    \n",
    "    if vow.lower() in 'aeiou':\n",
    "        \n",
    "        print(True)\n",
    "        \n",
    "    else:\n",
    "        \n",
    "        print('False')"
   ]
  },
  {
   "cell_type": "code",
   "execution_count": 4,
   "id": "21a54a6d",
   "metadata": {
    "scrolled": true
   },
   "outputs": [
    {
     "name": "stdout",
     "output_type": "stream",
     "text": [
      "Enter an integer: a\n",
      "True\n"
     ]
    }
   ],
   "source": [
    "isVowel(input('Enter an integer: '))"
   ]
  },
  {
   "cell_type": "markdown",
   "id": "66ace471",
   "metadata": {},
   "source": [
    "Define a function named is_consonant. It should return True if the passed string is a consonant, False otherwise. Use your is_vowel function to accomplish this."
   ]
  },
  {
   "cell_type": "code",
   "execution_count": 50,
   "id": "0d5b7dcb",
   "metadata": {},
   "outputs": [],
   "source": [
    "def is_consonant(con):\n",
    "    \n",
    "    if con.lower() in 'bcdfghijklmnpqrstvwxyz':\n",
    "        \n",
    "        print(True)\n",
    "        \n",
    "    else:\n",
    "        \n",
    "        print(False)"
   ]
  },
  {
   "cell_type": "code",
   "execution_count": 52,
   "id": "5ef1353c",
   "metadata": {},
   "outputs": [
    {
     "name": "stdout",
     "output_type": "stream",
     "text": [
      "Enter an integer: o\n",
      "False\n"
     ]
    }
   ],
   "source": [
    "is_consonant(input('Enter an integer: '))"
   ]
  },
  {
   "cell_type": "markdown",
   "id": "a585140b",
   "metadata": {},
   "source": [
    "Define a function that accepts a string that is a word. The function should capitalize the first letter of the word if the word starts with a consonant."
   ]
  },
  {
   "cell_type": "code",
   "execution_count": 57,
   "id": "5dd8fe40",
   "metadata": {},
   "outputs": [],
   "source": [
    "def word(x):\n",
    "    \n",
    "    x = input('Enter a word: ')\n",
    "    \n",
    "    if x[0] in 'bcdfghijklmnpqrstvwxyz':\n",
    "        \n",
    "        print (x.capitalize())\n"
   ]
  },
  {
   "cell_type": "code",
   "execution_count": 58,
   "id": "649b0cb8",
   "metadata": {},
   "outputs": [
    {
     "name": "stdout",
     "output_type": "stream",
     "text": [
      "Enter a word: mom\n",
      "Mom\n"
     ]
    }
   ],
   "source": [
    "word('x')"
   ]
  },
  {
   "cell_type": "markdown",
   "id": "7cf564b1",
   "metadata": {},
   "source": [
    "Define a function named calculate_tip. It should accept a tip percentage (a number between 0 and 1) and the bill total, and return the amount to tip."
   ]
  },
  {
   "cell_type": "code",
   "execution_count": 202,
   "id": "0f8f75d0",
   "metadata": {},
   "outputs": [],
   "source": [
    "def calculate_tip():\n",
    "    \n",
    "    n = int(input('Enter an int: '))\n",
    "    \n",
    "    x = float(input('Enter an int: '))\n",
    "    \n",
    "    print(n * x)\n",
    "        \n",
    "\n",
    "    \n",
    "    \n",
    "    \n",
    "    \n",
    "    "
   ]
  },
  {
   "cell_type": "code",
   "execution_count": 203,
   "id": "b2937fb2",
   "metadata": {},
   "outputs": [
    {
     "name": "stdout",
     "output_type": "stream",
     "text": [
      "Enter an int: 1000\n",
      "Enter an int: 0.4\n",
      "400.0\n"
     ]
    }
   ],
   "source": [
    "calculate_tip()"
   ]
  },
  {
   "cell_type": "markdown",
   "id": "a4f8beb9",
   "metadata": {},
   "source": [
    "Define a function named apply_discount. It should accept a original price, and a discount percentage, and return the price after the discount is applied."
   ]
  },
  {
   "cell_type": "code",
   "execution_count": 211,
   "id": "3110ed17",
   "metadata": {},
   "outputs": [],
   "source": [
    "def apply_discount():\n",
    "    \n",
    "    n = int(input('Enter an int: '))\n",
    "    \n",
    "    x = float(input('Enter an int: '))\n",
    "    \n",
    "    return(n * x) + (n)\n",
    "\n",
    "\n",
    "\n",
    "\n",
    "\n"
   ]
  },
  {
   "cell_type": "code",
   "execution_count": 212,
   "id": "6dd3f7dd",
   "metadata": {},
   "outputs": [
    {
     "name": "stdout",
     "output_type": "stream",
     "text": [
      "Enter an int: 200\n",
      "Enter an int: 0.5\n"
     ]
    },
    {
     "data": {
      "text/plain": [
       "300.0"
      ]
     },
     "execution_count": 212,
     "metadata": {},
     "output_type": "execute_result"
    }
   ],
   "source": [
    "apply_discount()"
   ]
  },
  {
   "cell_type": "markdown",
   "id": "83d4655d",
   "metadata": {},
   "source": [
    "Define a function named handle_commas. It should accept a string that is a number that contains commas in it as input, and return a number as output."
   ]
  },
  {
   "cell_type": "code",
   "execution_count": 32,
   "id": "8e2a0605",
   "metadata": {},
   "outputs": [],
   "source": [
    "def handle_commas():\n",
    "    \n",
    "    n = input('Enter a big number with commas: ')\n",
    "    \n",
    "    return(n.replace(',', ''))\n",
    "    "
   ]
  },
  {
   "cell_type": "code",
   "execution_count": 33,
   "id": "c6518b32",
   "metadata": {},
   "outputs": [
    {
     "name": "stdout",
     "output_type": "stream",
     "text": [
      "Enter a big number with commas: 100,000,000,000\n"
     ]
    },
    {
     "data": {
      "text/plain": [
       "'100000000000'"
      ]
     },
     "execution_count": 33,
     "metadata": {},
     "output_type": "execute_result"
    }
   ],
   "source": [
    "handle_commas()"
   ]
  },
  {
   "cell_type": "markdown",
   "id": "795f363f",
   "metadata": {},
   "source": [
    "Define a function named get_letter_grade. It should accept a number and return the letter grade associated with that number (A-F)."
   ]
  },
  {
   "cell_type": "code",
   "execution_count": 28,
   "id": "b03f9f6f",
   "metadata": {},
   "outputs": [],
   "source": [
    "def get_letter_grade():\n",
    "    \n",
    "    user_grade = int(input('Please enter a grade: '))\n",
    "    \n",
    "    if user_grade >= 88 and user_grade <= 100:\n",
    "        \n",
    "        print(f'{user_grade} is an A')\n",
    "        \n",
    "    elif user_grade >= 80:\n",
    "        \n",
    "        print(f'{user_grade} is a B')\n",
    "        \n",
    "    elif user_grade >= 67:\n",
    "        \n",
    "        print(f'{user_grade} is a C')\n",
    "        \n",
    "    elif user_grade >= 60:\n",
    "        \n",
    "        print(f'{user_grade} is a D')\n",
    "        \n",
    "    elif user_grade <= 59:\n",
    "        \n",
    "        print(f'{user_grade} is an F')\n",
    "        \n",
    "    else:\n",
    "        \n",
    "        print('Please enter a grade between 1-100')\n",
    "    "
   ]
  },
  {
   "cell_type": "code",
   "execution_count": 31,
   "id": "98fbe870",
   "metadata": {},
   "outputs": [
    {
     "name": "stdout",
     "output_type": "stream",
     "text": [
      "Please enter a grade: 98\n",
      "98 is an A\n"
     ]
    }
   ],
   "source": [
    "get_letter_grade()"
   ]
  },
  {
   "cell_type": "markdown",
   "id": "23748828",
   "metadata": {},
   "source": [
    "Define a function named remove_vowels that accepts a string and returns a string with all the vowels removed."
   ]
  },
  {
   "cell_type": "code",
   "execution_count": 170,
   "id": "ba15f8c3",
   "metadata": {},
   "outputs": [],
   "source": [
    "def remove_vowels():\n",
    "    \n",
    "    random_word = input('Please enter a random word: ')\n",
    "    \n",
    "    for vowel in 'aeiouAEIOU':\n",
    "    \n",
    "        random_word = random_word.replace(vowel,'')\n",
    "    \n",
    "    return random_word"
   ]
  },
  {
   "cell_type": "code",
   "execution_count": 176,
   "id": "b5496418",
   "metadata": {},
   "outputs": [
    {
     "name": "stdout",
     "output_type": "stream",
     "text": [
      "Please enter a random word: AESTHETIC\n"
     ]
    },
    {
     "data": {
      "text/plain": [
       "'STHTC'"
      ]
     },
     "execution_count": 176,
     "metadata": {},
     "output_type": "execute_result"
    }
   ],
   "source": [
    "remove_vowels()"
   ]
  },
  {
   "cell_type": "markdown",
   "id": "8d046629",
   "metadata": {},
   "source": [
    "Define a function named normalize_name. It should accept a string and return a valid python identifier, that is:\n",
    "\n",
    "anything that is not a valid python identifier should be removed\n",
    "\n",
    "leading and trailing whitespace should be removed\n",
    "\n",
    "everything should be lowercase\n",
    "\n",
    "spaces should be replaced with underscores\n",
    "\n",
    "for example:\n",
    "\n",
    "Name will become name\n",
    "\n",
    "First Name will become first_name\n",
    "\n",
    "% Completed will become completed"
   ]
  },
  {
   "cell_type": "code",
   "execution_count": 36,
   "id": "60cf1c6e",
   "metadata": {},
   "outputs": [],
   "source": [
    "def normalize_name():\n",
    "    \n",
    "    sentence = input('Please enter a random word: ')\n",
    "    \n",
    "    py_id = 'abcdefghijklmnopqrstuvwxyz0123456789_. '\n",
    "    \n",
    "    lower_case = sentence.lower()\n",
    "    \n",
    "    my_lst = []\n",
    "    \n",
    "    desired_phrase = ''\n",
    "    \n",
    "    for test in lower_case:\n",
    "        \n",
    "        if test in py_id:\n",
    "            \n",
    "            my_lst.append(test)\n",
    "            \n",
    "    desired_phrase = ''.join(my_lst).strip().replace(' ','_')\n",
    "        \n",
    "    return desired_phrase"
   ]
  },
  {
   "cell_type": "code",
   "execution_count": 37,
   "id": "f8983737",
   "metadata": {},
   "outputs": [
    {
     "name": "stdout",
     "output_type": "stream",
     "text": [
      "Please enter a random word: Theodore is my first name.\n"
     ]
    },
    {
     "data": {
      "text/plain": [
       "'theodore_is_my_first_name.'"
      ]
     },
     "execution_count": 37,
     "metadata": {},
     "output_type": "execute_result"
    }
   ],
   "source": [
    "normalize_name()"
   ]
  },
  {
   "cell_type": "markdown",
   "id": "39270f18",
   "metadata": {},
   "source": [
    "Write a function named cumulative_sum that accepts a list of numbers and returns a list that is the cumulative sum of the numbers in the list.\n",
    "\n",
    "cumulative_sum([1, 1, 1]) returns [1, 2, 3]\n",
    "\n",
    "cumulative_sum([1, 2, 3, 4]) returns [1, 3, 6, 10]"
   ]
  },
  {
   "cell_type": "code",
   "execution_count": 53,
   "id": "1c59ee88",
   "metadata": {},
   "outputs": [
    {
     "name": "stdout",
     "output_type": "stream",
     "text": [
      "[0, 1, 3, 6, 10, 15]\n"
     ]
    }
   ],
   "source": [
    "def cumulative_sum(list):\n",
    "    \n",
    "    x = 0\n",
    "    \n",
    "    n = []\n",
    "    \n",
    "    for a in list:\n",
    "        \n",
    "        x = x + a\n",
    "        \n",
    "        n.append(x)\n",
    "        \n",
    "    return n\n",
    "\n",
    "print(cumulative_sum([0,1,2,3,4,5]))"
   ]
  },
  {
   "cell_type": "code",
   "execution_count": null,
   "id": "80f67d36",
   "metadata": {},
   "outputs": [],
   "source": []
  }
 ],
 "metadata": {
  "kernelspec": {
   "display_name": "Python 3 (ipykernel)",
   "language": "python",
   "name": "python3"
  },
  "language_info": {
   "codemirror_mode": {
    "name": "ipython",
    "version": 3
   },
   "file_extension": ".py",
   "mimetype": "text/x-python",
   "name": "python",
   "nbconvert_exporter": "python",
   "pygments_lexer": "ipython3",
   "version": "3.10.9"
  }
 },
 "nbformat": 4,
 "nbformat_minor": 5
}
