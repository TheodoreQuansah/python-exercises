{
 "cells": [
  {
   "cell_type": "code",
   "execution_count": 8,
   "id": "976fcf9c-c6df-47e8-b1ce-a4515ba36a03",
   "metadata": {},
   "outputs": [],
   "source": [
    "import json"
   ]
  },
  {
   "cell_type": "code",
   "execution_count": 9,
   "id": "40dd3215-1a8f-4128-818a-2a36e7222bc4",
   "metadata": {},
   "outputs": [],
   "source": [
    "d = json.load(open('profiles.json'))"
   ]
  },
  {
   "cell_type": "markdown",
   "id": "232d5aa6-c672-4f6c-b2e6-39ee02f754a1",
   "metadata": {},
   "source": [
    "Total number of users"
   ]
  },
  {
   "cell_type": "code",
   "execution_count": 16,
   "id": "bffc2b9a-8313-4add-81c3-e746ccaf9895",
   "metadata": {},
   "outputs": [
    {
     "data": {
      "text/plain": [
       "19"
      ]
     },
     "execution_count": 16,
     "metadata": {},
     "output_type": "execute_result"
    }
   ],
   "source": [
    "len(d)"
   ]
  },
  {
   "cell_type": "markdown",
   "id": "7aab6d2e-871f-44a0-b9af-4f6e80a36aca",
   "metadata": {},
   "source": [
    "Number of active users"
   ]
  },
  {
   "cell_type": "code",
   "execution_count": 60,
   "id": "88f5a56b-2cde-49bd-816b-23be11ea82df",
   "metadata": {},
   "outputs": [
    {
     "name": "stdout",
     "output_type": "stream",
     "text": [
      "False\n",
      "False\n",
      "True\n",
      "False\n",
      "False\n",
      "True\n",
      "False\n",
      "False\n",
      "False\n",
      "True\n",
      "True\n",
      "True\n",
      "False\n",
      "True\n",
      "True\n",
      "False\n",
      "False\n",
      "True\n",
      "True\n",
      "9\n"
     ]
    }
   ],
   "source": [
    "count_user = 0\n",
    "d[0]['isActive']\n",
    "for each_user in d:\n",
    "    each_user['isActive']\n",
    "    print(each_user['isActive'])\n",
    "    if each_user['isActive'] == True:\n",
    "        count_user+=1\n",
    "print(count_user)\n",
    "    "
   ]
  },
  {
   "cell_type": "markdown",
   "id": "35000832-634d-4db3-966c-7219116c1a04",
   "metadata": {},
   "source": [
    "Number of inactive users"
   ]
  },
  {
   "cell_type": "code",
   "execution_count": 61,
   "id": "95e468de-cde8-4d7c-b66f-a9cea8189a71",
   "metadata": {},
   "outputs": [
    {
     "data": {
      "text/plain": [
       "10"
      ]
     },
     "execution_count": 61,
     "metadata": {},
     "output_type": "execute_result"
    }
   ],
   "source": [
    "len(d) - count_user"
   ]
  },
  {
   "cell_type": "markdown",
   "id": "98c88191-068d-40a8-b87a-21178c9d2ee2",
   "metadata": {},
   "source": [
    "Grand total of balances for all users"
   ]
  },
  {
   "cell_type": "code",
   "execution_count": 27,
   "id": "6c2e8339-c2f3-4ad2-871a-0ef085daf97b",
   "metadata": {},
   "outputs": [
    {
     "name": "stdout",
     "output_type": "stream",
     "text": [
      "The grand total of balances for all users is: $52667.02\n"
     ]
    }
   ],
   "source": [
    "users = d\n",
    "\n",
    "grand_total = 0\n",
    "\n",
    "for user in users:\n",
    "    balance = user['balance']\n",
    "    balance = balance.replace('$', '').replace(',', '')\n",
    "    grand_total += float(balance)\n",
    "\n",
    "print(f\"The grand total of balances for all users is: ${grand_total:.2f}\")"
   ]
  },
  {
   "cell_type": "markdown",
   "id": "c03eb827-1573-4803-8334-387b80247ca8",
   "metadata": {},
   "source": [
    "Average balance per user"
   ]
  },
  {
   "cell_type": "code",
   "execution_count": 16,
   "id": "96f39c18-f438-486c-8091-eb17039adda0",
   "metadata": {},
   "outputs": [
    {
     "name": "stdout",
     "output_type": "stream",
     "text": [
      "The average balance per user is: $2771.95\n"
     ]
    }
   ],
   "source": [
    "users = d\n",
    "\n",
    "total_balance = 0\n",
    "num_users = len(users)\n",
    "\n",
    "for user in users:\n",
    "    balance = user['balance']\n",
    "    balance = balance.replace('$', '').replace(',', '')\n",
    "    total_balance += float(balance)\n",
    "\n",
    "average_balance = total_balance / num_users\n",
    "\n",
    "print(f\"The average balance per user is: ${average_balance:.2f}\")"
   ]
  },
  {
   "cell_type": "code",
   "execution_count": 18,
   "id": "ea1d2e40-e198-42c4-928e-37b0e71892c6",
   "metadata": {},
   "outputs": [
    {
     "name": "stdout",
     "output_type": "stream",
     "text": [
      "The user with the lowest balance is: Avery Flynn with a balance of $1214.10\n"
     ]
    }
   ],
   "source": [
    "users = d \n",
    "\n",
    "lowest_balance = float('inf')\n",
    "user_with_lowest_balance = None\n",
    "\n",
    "for user in users:\n",
    "    balance = user['balance']\n",
    "    balance = balance.replace('$', '').replace(',', '')\n",
    "    balance = float(balance)\n",
    "    \n",
    "    if balance < lowest_balance:\n",
    "        lowest_balance = balance\n",
    "        user_with_lowest_balance = user\n",
    "\n",
    "print(f\"The user with the lowest balance is: {user_with_lowest_balance['name']} with a balance of ${lowest_balance:.2f}\")"
   ]
  },
  {
   "cell_type": "markdown",
   "id": "85295e5f-f418-41ca-b016-bec0bc860b57",
   "metadata": {},
   "source": [
    "User with the highest balance"
   ]
  },
  {
   "cell_type": "code",
   "execution_count": 19,
   "id": "6628eb7d-874c-43f0-9315-bc8a28ff7b94",
   "metadata": {},
   "outputs": [
    {
     "name": "stdout",
     "output_type": "stream",
     "text": [
      "The user with the highest balance is: Fay Hammond with a balance of $3919.64\n"
     ]
    }
   ],
   "source": [
    "users = d\n",
    "\n",
    "highest_balance = float('-inf')\n",
    "user_with_highest_balance = None\n",
    "\n",
    "for user in users:\n",
    "    balance = user['balance']\n",
    "    balance = balance.replace('$', '').replace(',', '')\n",
    "    balance = float(balance)\n",
    "    \n",
    "    if balance > highest_balance:\n",
    "        highest_balance = balance\n",
    "        user_with_highest_balance = user\n",
    "\n",
    "print(f\"The user with the highest balance is: {user_with_highest_balance['name']} with a balance of ${highest_balance:.2f}\")"
   ]
  },
  {
   "cell_type": "markdown",
   "id": "322905a2-04b9-4ece-962a-0209943a9735",
   "metadata": {},
   "source": [
    "Most common favorite fruit"
   ]
  },
  {
   "cell_type": "code",
   "execution_count": 20,
   "id": "1b36bd81-e8ac-464e-863d-6d80bef6f03f",
   "metadata": {},
   "outputs": [
    {
     "name": "stdout",
     "output_type": "stream",
     "text": [
      "The most common favorite fruit among users is: strawberry\n"
     ]
    }
   ],
   "source": [
    "users = d \n",
    "\n",
    "fruit_counts = {}\n",
    "\n",
    "for user in users:\n",
    "    favorite_fruit = user['favoriteFruit']\n",
    "    \n",
    "    if favorite_fruit in fruit_counts:\n",
    "        fruit_counts[favorite_fruit] += 1\n",
    "    else:\n",
    "        fruit_counts[favorite_fruit] = 1\n",
    "\n",
    "most_common_fruit = max(fruit_counts, key=fruit_counts.get)\n",
    "\n",
    "print(f\"The most common favorite fruit among users is: {most_common_fruit}\")"
   ]
  },
  {
   "cell_type": "markdown",
   "id": "f89cbb3a-4b9f-4b10-a56c-2d77c3b59a60",
   "metadata": {},
   "source": [
    "Total number of unread messages for all users"
   ]
  },
  {
   "cell_type": "code",
   "execution_count": 23,
   "id": "0d07678e-8828-4b12-a396-5274db36ef55",
   "metadata": {},
   "outputs": [
    {
     "name": "stdout",
     "output_type": "stream",
     "text": [
      "Total number of unread messages for all users: 210\n"
     ]
    }
   ],
   "source": [
    "users = d\n",
    "\n",
    "total_unread_messages = 0\n",
    "\n",
    "for user in users:\n",
    "    greeting = user['greeting']\n",
    "    unread_messages_start = greeting.find('You have ') + len('You have ')\n",
    "    unread_messages_end = greeting.find(' unread')\n",
    "    unread_messages_count = int(greeting[unread_messages_start:unread_messages_end])\n",
    "    total_unread_messages += unread_messages_count\n",
    "\n",
    "print(\"Total number of unread messages for all users:\", total_unread_messages)"
   ]
  }
 ],
 "metadata": {
  "kernelspec": {
   "display_name": "Python 3 (ipykernel)",
   "language": "python",
   "name": "python3"
  },
  "language_info": {
   "codemirror_mode": {
    "name": "ipython",
    "version": 3
   },
   "file_extension": ".py",
   "mimetype": "text/x-python",
   "name": "python",
   "nbconvert_exporter": "python",
   "pygments_lexer": "ipython3",
   "version": "3.10.9"
  }
 },
 "nbformat": 4,
 "nbformat_minor": 5
}
