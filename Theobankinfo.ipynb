{
 "cells": [
  {
   "cell_type": "code",
   "execution_count": 6,
   "id": "ae0884f9-c135-4f04-9dc5-c75b40de2516",
   "metadata": {},
   "outputs": [],
   "source": [
    "import json"
   ]
  },
  {
   "cell_type": "code",
   "execution_count": 7,
   "id": "40bf19fd-82b9-4e1f-bb12-101cb8b4e4ab",
   "metadata": {},
   "outputs": [],
   "source": [
    "d = json.load(open('account_info.json'))"
   ]
  },
  {
   "cell_type": "code",
   "execution_count": 8,
   "id": "c2935935-49c1-4118-bbbc-c738bce6df32",
   "metadata": {},
   "outputs": [
    {
     "data": {
      "text/plain": [
       "[{'account_number': '111',\n",
       "  'first': 'Nikki',\n",
       "  'last': 'Meyer',\n",
       "  'balance': '$1,000,000,000,000.00'}]"
      ]
     },
     "execution_count": 8,
     "metadata": {},
     "output_type": "execute_result"
    }
   ],
   "source": [
    "d"
   ]
  },
  {
   "cell_type": "code",
   "execution_count": 9,
   "id": "40445a72-246e-4073-97fb-5d5bc48522e3",
   "metadata": {},
   "outputs": [],
   "source": [
    "balance = float(d[0]['balance'].replace('$', '').replace(',', ''))"
   ]
  },
  {
   "cell_type": "code",
   "execution_count": 10,
   "id": "0c13d83c-8839-4d00-a0cf-54341068a26f",
   "metadata": {},
   "outputs": [
    {
     "data": {
      "text/plain": [
       "1000000000000.0"
      ]
     },
     "execution_count": 10,
     "metadata": {},
     "output_type": "execute_result"
    }
   ],
   "source": [
    "balance"
   ]
  },
  {
   "cell_type": "code",
   "execution_count": 11,
   "id": "2edbf328-275e-47b9-a3b2-7e50ca374818",
   "metadata": {},
   "outputs": [
    {
     "name": "stdin",
     "output_type": "stream",
     "text": [
      "Welcome Mr. Quansah, Press 1 to view current balance 2 To withdraw from your account 3 To credit your account and 4 To exit 1\n"
     ]
    },
    {
     "name": "stdout",
     "output_type": "stream",
     "text": [
      "1000000000000.0\n"
     ]
    },
    {
     "name": "stdin",
     "output_type": "stream",
     "text": [
      "Welcome Mr. Quansah, Press 1 to view current balance 2 To withdraw from your account 3 To credit your account and 4 To exit 2\n",
      "How much do you want to take out 10\n"
     ]
    },
    {
     "name": "stdout",
     "output_type": "stream",
     "text": [
      "999999999990.0\n"
     ]
    },
    {
     "name": "stdin",
     "output_type": "stream",
     "text": [
      "Welcome Mr. Quansah, Press 1 to view current balance 2 To withdraw from your account 3 To credit your account and 4 To exit 3\n",
      "How much credit do you want 10\n"
     ]
    },
    {
     "name": "stdout",
     "output_type": "stream",
     "text": [
      "1000000000000.0\n"
     ]
    },
    {
     "name": "stdin",
     "output_type": "stream",
     "text": [
      "Welcome Mr. Quansah, Press 1 to view current balance 2 To withdraw from your account 3 To credit your account and 4 To exit 4\n"
     ]
    },
    {
     "name": "stdout",
     "output_type": "stream",
     "text": [
      "Thank you for banking with us! Goodbye\n"
     ]
    }
   ],
   "source": [
    "while True:\n",
    "    \n",
    "    prompt = input('Welcome Mr. Quansah, Press 1 to view current balance'\n",
    "                   ' 2 To withdraw from your account'\n",
    "                   ' 3 To credit your account' ' and'\n",
    "                   ' 4 To exit')\n",
    "    \n",
    "    \n",
    "    \n",
    "    if prompt == '1':\n",
    "        print(balance)\n",
    "    elif prompt == '2':\n",
    "        debit = input('How much do you want to take out')\n",
    "        balance -= int(debit)\n",
    "        print(balance)\n",
    "    elif prompt == '3':\n",
    "        credit = input('How much credit do you want')\n",
    "        balance += int(credit)\n",
    "        print(balance)\n",
    "    elif prompt == '4':\n",
    "        print('Thank you for banking with us! Goodbye')\n",
    "        break\n",
    "    else:\n",
    "        print('INVALID INPUT, PLEASE CHOOSE FROM THE 4 PROMPTS GIVEN.')"
   ]
  },
  {
   "cell_type": "code",
   "execution_count": null,
   "id": "69a44858-e757-435b-8fd7-1b047d899716",
   "metadata": {},
   "outputs": [],
   "source": []
  },
  {
   "cell_type": "code",
   "execution_count": null,
   "id": "fc1c21f7-3463-4c75-85ae-2cfcce794eb6",
   "metadata": {},
   "outputs": [],
   "source": []
  },
  {
   "cell_type": "code",
   "execution_count": null,
   "id": "ca9d9fd3-c9fd-44cd-86fc-0a29d11ff9e3",
   "metadata": {},
   "outputs": [],
   "source": []
  }
 ],
 "metadata": {
  "kernelspec": {
   "display_name": "Python 3 (ipykernel)",
   "language": "python",
   "name": "python3"
  },
  "language_info": {
   "codemirror_mode": {
    "name": "ipython",
    "version": 3
   },
   "file_extension": ".py",
   "mimetype": "text/x-python",
   "name": "python",
   "nbconvert_exporter": "python",
   "pygments_lexer": "ipython3",
   "version": "3.10.9"
  }
 },
 "nbformat": 4,
 "nbformat_minor": 5
}
