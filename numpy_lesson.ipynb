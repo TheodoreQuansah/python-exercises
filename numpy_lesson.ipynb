{
 "cells": [
  {
   "cell_type": "code",
   "execution_count": 1,
   "id": "28a3b26a",
   "metadata": {},
   "outputs": [
    {
     "data": {
      "application/javascript": [
       "IPython.notebook.set_autosave_interval(120000)"
      ]
     },
     "metadata": {},
     "output_type": "display_data"
    },
    {
     "name": "stdout",
     "output_type": "stream",
     "text": [
      "Autosaving every 120 seconds\n"
     ]
    }
   ],
   "source": [
    "%autosave 120"
   ]
  },
  {
   "cell_type": "markdown",
   "id": "a2c67dc6",
   "metadata": {},
   "source": [
    "Numpy makes it easy for us to work with large amounts of numerical data in arrays. Many other libraries (including Pandas) are built on Numpy. It's important to be familiar working with this library in order to understand the functionality of the other libraries."
   ]
  },
  {
   "cell_type": "code",
   "execution_count": 2,
   "id": "5dd07665",
   "metadata": {},
   "outputs": [],
   "source": [
    "#standard import\n",
    "import numpy as np"
   ]
  },
  {
   "cell_type": "markdown",
   "id": "59e02592",
   "metadata": {},
   "source": [
    "We create Numpy arrays with the np.array function. Inside the function, we can pass a list as the argument."
   ]
  },
  {
   "cell_type": "code",
   "execution_count": 3,
   "id": "ca2086f2",
   "metadata": {},
   "outputs": [
    {
     "data": {
      "text/plain": [
       "array([1, 2, 3, 4, 5])"
      ]
     },
     "execution_count": 3,
     "metadata": {},
     "output_type": "execute_result"
    }
   ],
   "source": [
    "array = np.array([1,2,3,4,5])\n",
    "array"
   ]
  },
  {
   "cell_type": "markdown",
   "id": "b499fc7c",
   "metadata": {},
   "source": [
    "We can index a Numpy array, much like a list!"
   ]
  },
  {
   "cell_type": "code",
   "execution_count": 4,
   "id": "9a786ae8",
   "metadata": {},
   "outputs": [
    {
     "data": {
      "text/plain": [
       "1"
      ]
     },
     "execution_count": 4,
     "metadata": {},
     "output_type": "execute_result"
    }
   ],
   "source": [
    "array[0]"
   ]
  },
  {
   "cell_type": "code",
   "execution_count": 5,
   "id": "3ce558cc-066b-4e33-95b4-c3012c252156",
   "metadata": {},
   "outputs": [
    {
     "data": {
      "text/plain": [
       "array([3, 4, 5])"
      ]
     },
     "execution_count": 5,
     "metadata": {},
     "output_type": "execute_result"
    }
   ],
   "source": [
    "array[2:]"
   ]
  },
  {
   "cell_type": "code",
   "execution_count": 6,
   "id": "17dcf502-6542-4386-8919-453625362ded",
   "metadata": {},
   "outputs": [
    {
     "data": {
      "text/plain": [
       "array([3, 4, 5])"
      ]
     },
     "execution_count": 6,
     "metadata": {},
     "output_type": "execute_result"
    }
   ],
   "source": [
    "array[-3:]"
   ]
  },
  {
   "cell_type": "code",
   "execution_count": 13,
   "id": "adae4141-30a5-4a43-837a-6450c1a0e599",
   "metadata": {},
   "outputs": [
    {
     "data": {
      "text/plain": [
       "array([1, 2])"
      ]
     },
     "execution_count": 13,
     "metadata": {},
     "output_type": "execute_result"
    }
   ],
   "source": [
    "array[:-3]"
   ]
  },
  {
   "cell_type": "markdown",
   "id": "25065141",
   "metadata": {},
   "source": [
    "Vectorized operations allow us to perform a mathematical operation on EVERY number in an array.\n",
    "\n",
    "Let's compare how we could do the same thing with a list and a Numpy array."
   ]
  },
  {
   "cell_type": "code",
   "execution_count": 23,
   "id": "81a1286f",
   "metadata": {},
   "outputs": [
    {
     "data": {
      "text/plain": [
       "array([10, 20, 30, 40, 50])"
      ]
     },
     "execution_count": 23,
     "metadata": {},
     "output_type": "execute_result"
    }
   ],
   "source": [
    "array * 10"
   ]
  },
  {
   "cell_type": "code",
   "execution_count": 24,
   "id": "235d7de7-053d-4ad1-9a30-2d62a29df00a",
   "metadata": {},
   "outputs": [],
   "source": [
    "my_list = [1,2,3,4,5]"
   ]
  },
  {
   "cell_type": "code",
   "execution_count": 26,
   "id": "2fe3a64b-b678-4eed-85fc-9a4d228bf597",
   "metadata": {},
   "outputs": [
    {
     "data": {
      "text/plain": [
       "[10, 20, 30, 40, 50]"
      ]
     },
     "execution_count": 26,
     "metadata": {},
     "output_type": "execute_result"
    }
   ],
   "source": [
    "empty_list = []\n",
    "\n",
    "for num in my_list:\n",
    "    \n",
    "    empty_list.append(num*10)\n",
    "    \n",
    "empty_list"
   ]
  },
  {
   "cell_type": "markdown",
   "id": "ee7038d5",
   "metadata": {},
   "source": [
    "Boolean masking is an important concept we will apply consistently with Pandas. We will get back an array filled with Boolean values, and use it to MASK (hide or remove) certain values from the output."
   ]
  },
  {
   "cell_type": "code",
   "execution_count": 41,
   "id": "ae2e9ec1",
   "metadata": {},
   "outputs": [
    {
     "data": {
      "text/plain": [
       "array([False, False, False,  True,  True])"
      ]
     },
     "execution_count": 41,
     "metadata": {},
     "output_type": "execute_result"
    }
   ],
   "source": [
    "mask = array > 3\n",
    "mask"
   ]
  },
  {
   "cell_type": "code",
   "execution_count": 42,
   "id": "b9186664-1b26-47a8-9103-4d55c7f65f66",
   "metadata": {},
   "outputs": [
    {
     "data": {
      "text/plain": [
       "array([4, 5])"
      ]
     },
     "execution_count": 42,
     "metadata": {},
     "output_type": "execute_result"
    }
   ],
   "source": [
    "array[mask]"
   ]
  },
  {
   "cell_type": "code",
   "execution_count": 48,
   "id": "01082772-73af-406a-8988-ad50b030a707",
   "metadata": {},
   "outputs": [
    {
     "data": {
      "text/plain": [
       "array([1, 2])"
      ]
     },
     "execution_count": 48,
     "metadata": {},
     "output_type": "execute_result"
    }
   ],
   "source": [
    "array[array<3]"
   ]
  },
  {
   "cell_type": "code",
   "execution_count": 53,
   "id": "c0c9908f",
   "metadata": {},
   "outputs": [
    {
     "data": {
      "text/plain": [
       "array([[-0.93329501, -1.98825378, -0.84357604, -1.1848743 ,  0.57816022],\n",
       "       [-1.97937073, -0.75007049, -0.75974657,  0.97865411,  0.29694527],\n",
       "       [ 0.52452493,  0.3707515 , -1.13855345,  0.2550239 ,  0.57044177],\n",
       "       [ 0.91291457, -0.12121909, -1.28986796,  0.41171009,  1.74846214]])"
      ]
     },
     "execution_count": 53,
     "metadata": {},
     "output_type": "execute_result"
    }
   ],
   "source": [
    "st_norm = np.random.randn(4,5)\n",
    "st_norm"
   ]
  },
  {
   "cell_type": "code",
   "execution_count": 58,
   "id": "3581a72b-8b2b-489b-8232-a0a01bd6380b",
   "metadata": {},
   "outputs": [
    {
     "data": {
      "text/plain": [
       "array([[[0.07110278, 0.02074266, 0.15881811],\n",
       "        [0.42977723, 0.07362133, 0.7902254 ],\n",
       "        [0.10988795, 0.69035557, 0.25247494]],\n",
       "\n",
       "       [[0.44743211, 0.2449616 , 0.85242332],\n",
       "        [0.98706319, 0.49267065, 0.99956612],\n",
       "        [0.10944058, 0.77402129, 0.60668972]],\n",
       "\n",
       "       [[0.09882681, 0.69468566, 0.61430745],\n",
       "        [0.61406706, 0.97790963, 0.08627121],\n",
       "        [0.4438294 , 0.32755889, 0.93924377]]])"
      ]
     },
     "execution_count": 58,
     "metadata": {},
     "output_type": "execute_result"
    }
   ],
   "source": [
    "np.random.rand(3,3,3)"
   ]
  },
  {
   "cell_type": "markdown",
   "id": "df9d8a65-d5b9-485e-97a0-d0ee8af98250",
   "metadata": {},
   "source": [
    "We can create arrays from the standard normal distribution (mean of 0, standard deviation of 1) using np.random.randn. We specify the shape of the resulting array as the argument for the function."
   ]
  },
  {
   "cell_type": "code",
   "execution_count": 63,
   "id": "2091496e-07a5-4a31-af70-cfcbbace3a96",
   "metadata": {},
   "outputs": [
    {
     "data": {
      "text/plain": [
       "array([32.9776573 , 40.24421006, 20.63146774, 35.06450957, 29.59174545])"
      ]
     },
     "execution_count": 63,
     "metadata": {},
     "output_type": "execute_result"
    }
   ],
   "source": [
    "my_norm = np.random.normal(30 , 5, 5)\n",
    "my_norm"
   ]
  },
  {
   "cell_type": "markdown",
   "id": "476b3557",
   "metadata": {},
   "source": [
    "We can create arrays from a range using np.arange. We specify the starting value, the stopping value, and the step size."
   ]
  },
  {
   "cell_type": "code",
   "execution_count": 73,
   "id": "21893d97",
   "metadata": {},
   "outputs": [
    {
     "data": {
      "text/plain": [
       "array([ 0,  2,  4,  6,  8, 10, 12])"
      ]
     },
     "execution_count": 73,
     "metadata": {},
     "output_type": "execute_result"
    }
   ],
   "source": [
    "range_array = np.arange(0, 14, 2)\n",
    "range_array"
   ]
  },
  {
   "cell_type": "markdown",
   "id": "e555630b",
   "metadata": {},
   "source": [
    "We can call a number of array methods to return descriptive statistics, such as min, max, mean, standard deviation, and sum."
   ]
  },
  {
   "cell_type": "code",
   "execution_count": 71,
   "id": "d4c55d62",
   "metadata": {},
   "outputs": [
    {
     "data": {
      "text/plain": [
       "9"
      ]
     },
     "execution_count": 71,
     "metadata": {},
     "output_type": "execute_result"
    }
   ],
   "source": [
    "range_array.max()"
   ]
  }
 ],
 "metadata": {
  "kernelspec": {
   "display_name": "Python 3 (ipykernel)",
   "language": "python",
   "name": "python3"
  },
  "language_info": {
   "codemirror_mode": {
    "name": "ipython",
    "version": 3
   },
   "file_extension": ".py",
   "mimetype": "text/x-python",
   "name": "python",
   "nbconvert_exporter": "python",
   "pygments_lexer": "ipython3",
   "version": "3.10.9"
  }
 },
 "nbformat": 4,
 "nbformat_minor": 5
}
