{
 "cells": [
  {
   "cell_type": "markdown",
   "id": "82d35757",
   "metadata": {},
   "source": [
    "1) Identify the data type of the following values:"
   ]
  },
  {
   "cell_type": "code",
   "execution_count": 1,
   "id": "8aad74ed",
   "metadata": {},
   "outputs": [
    {
     "data": {
      "text/plain": [
       "float"
      ]
     },
     "execution_count": 1,
     "metadata": {},
     "output_type": "execute_result"
    }
   ],
   "source": [
    "type(99.9\n",
    ")"
   ]
  },
  {
   "cell_type": "code",
   "execution_count": 2,
   "id": "50d89205",
   "metadata": {},
   "outputs": [
    {
     "data": {
      "text/plain": [
       "str"
      ]
     },
     "execution_count": 2,
     "metadata": {},
     "output_type": "execute_result"
    }
   ],
   "source": [
    "type(\"False\"\n",
    ")"
   ]
  },
  {
   "cell_type": "code",
   "execution_count": 3,
   "id": "7ed44b8b",
   "metadata": {},
   "outputs": [
    {
     "data": {
      "text/plain": [
       "bool"
      ]
     },
     "execution_count": 3,
     "metadata": {},
     "output_type": "execute_result"
    }
   ],
   "source": [
    "type(False\n",
    ")"
   ]
  },
  {
   "cell_type": "code",
   "execution_count": 4,
   "id": "2c2b8a32",
   "metadata": {},
   "outputs": [
    {
     "data": {
      "text/plain": [
       "str"
      ]
     },
     "execution_count": 4,
     "metadata": {},
     "output_type": "execute_result"
    }
   ],
   "source": [
    "type('0'\n",
    ")"
   ]
  },
  {
   "cell_type": "code",
   "execution_count": 5,
   "id": "1373aca7",
   "metadata": {},
   "outputs": [
    {
     "data": {
      "text/plain": [
       "int"
      ]
     },
     "execution_count": 5,
     "metadata": {},
     "output_type": "execute_result"
    }
   ],
   "source": [
    "type(0\n",
    ")"
   ]
  },
  {
   "cell_type": "code",
   "execution_count": 6,
   "id": "74f08ca0",
   "metadata": {},
   "outputs": [
    {
     "data": {
      "text/plain": [
       "bool"
      ]
     },
     "execution_count": 6,
     "metadata": {},
     "output_type": "execute_result"
    }
   ],
   "source": [
    "type(True\n",
    ")"
   ]
  },
  {
   "cell_type": "code",
   "execution_count": 7,
   "id": "57b76ef2",
   "metadata": {},
   "outputs": [
    {
     "data": {
      "text/plain": [
       "str"
      ]
     },
     "execution_count": 7,
     "metadata": {},
     "output_type": "execute_result"
    }
   ],
   "source": [
    "type('True'\n",
    ")"
   ]
  },
  {
   "cell_type": "code",
   "execution_count": 8,
   "id": "1876ca25",
   "metadata": {},
   "outputs": [
    {
     "data": {
      "text/plain": [
       "list"
      ]
     },
     "execution_count": 8,
     "metadata": {},
     "output_type": "execute_result"
    }
   ],
   "source": [
    "type([{}]\n",
    ")"
   ]
  },
  {
   "cell_type": "code",
   "execution_count": 9,
   "id": "19109024",
   "metadata": {},
   "outputs": [
    {
     "data": {
      "text/plain": [
       "dict"
      ]
     },
     "execution_count": 9,
     "metadata": {},
     "output_type": "execute_result"
    }
   ],
   "source": [
    "type({'a': []})\n"
   ]
  },
  {
   "cell_type": "markdown",
   "id": "481babb1",
   "metadata": {},
   "source": [
    "2) What data type would best represent the following?"
   ]
  },
  {
   "cell_type": "code",
   "execution_count": 12,
   "id": "c67677a7",
   "metadata": {},
   "outputs": [],
   "source": [
    "# A term or phrase typed into a search box\n",
    "# String"
   ]
  },
  {
   "cell_type": "code",
   "execution_count": 13,
   "id": "1636b2ad",
   "metadata": {},
   "outputs": [],
   "source": [
    "# Whether or not a user is logged in\n",
    "# Boolean"
   ]
  },
  {
   "cell_type": "code",
   "execution_count": 14,
   "id": "f36c2409",
   "metadata": {},
   "outputs": [],
   "source": [
    "# A discount amount to apply to a user's shopping cart\n",
    "# Numbers"
   ]
  },
  {
   "cell_type": "code",
   "execution_count": 15,
   "id": "457bda70",
   "metadata": {},
   "outputs": [],
   "source": [
    "# Whether or not a coupon code is valid\n",
    "# Boolean"
   ]
  },
  {
   "cell_type": "code",
   "execution_count": 16,
   "id": "c5fe788a",
   "metadata": {},
   "outputs": [],
   "source": [
    "# An email address typed into a registration form\n",
    "# Strings"
   ]
  },
  {
   "cell_type": "code",
   "execution_count": 17,
   "id": "acb0f4a2",
   "metadata": {},
   "outputs": [],
   "source": [
    "# The price of a product\n",
    "# Numbers"
   ]
  },
  {
   "cell_type": "code",
   "execution_count": 18,
   "id": "b9524e91",
   "metadata": {},
   "outputs": [],
   "source": [
    "# The email addresses collected from a registration form\n",
    "# Lists"
   ]
  },
  {
   "cell_type": "code",
   "execution_count": 19,
   "id": "5f6c17d6",
   "metadata": {},
   "outputs": [],
   "source": [
    "# Information about applicants to Codeup's data science program\n",
    "# Dictionaries"
   ]
  },
  {
   "cell_type": "markdown",
   "id": "b825187e",
   "metadata": {},
   "source": [
    "3. For each of the following code blocks:\n",
    "\n",
    "Read the expression and predict the evaluated results\n",
    "\n",
    "Execute the expression in a Python REPL."
   ]
  },
  {
   "cell_type": "code",
   "execution_count": 21,
   "id": "0c11df98",
   "metadata": {},
   "outputs": [
    {
     "ename": "TypeError",
     "evalue": "can only concatenate str (not \"int\") to str",
     "output_type": "error",
     "traceback": [
      "\u001b[0;31m---------------------------------------------------------------------------\u001b[0m",
      "\u001b[0;31mTypeError\u001b[0m                                 Traceback (most recent call last)",
      "Cell \u001b[0;32mIn[21], line 1\u001b[0m\n\u001b[0;32m----> 1\u001b[0m \u001b[38;5;124;43m'\u001b[39;49m\u001b[38;5;124;43m1\u001b[39;49m\u001b[38;5;124;43m'\u001b[39;49m\u001b[43m \u001b[49m\u001b[38;5;241;43m+\u001b[39;49m\u001b[43m \u001b[49m\u001b[38;5;241;43m2\u001b[39;49m\n",
      "\u001b[0;31mTypeError\u001b[0m: can only concatenate str (not \"int\") to str"
     ]
    }
   ],
   "source": [
    "'1' + 2\n",
    "# TypeError"
   ]
  },
  {
   "cell_type": "code",
   "execution_count": 27,
   "id": "ea9d4137",
   "metadata": {},
   "outputs": [
    {
     "data": {
      "text/plain": [
       "2"
      ]
     },
     "execution_count": 27,
     "metadata": {},
     "output_type": "execute_result"
    }
   ],
   "source": [
    "6 % 4\n",
    "# 2"
   ]
  },
  {
   "cell_type": "code",
   "execution_count": 28,
   "id": "05a64c5f",
   "metadata": {},
   "outputs": [
    {
     "data": {
      "text/plain": [
       "int"
      ]
     },
     "execution_count": 28,
     "metadata": {},
     "output_type": "execute_result"
    }
   ],
   "source": [
    "type(6 % 4)\n",
    "# Int"
   ]
  },
  {
   "cell_type": "code",
   "execution_count": 29,
   "id": "00d67f90",
   "metadata": {},
   "outputs": [
    {
     "data": {
      "text/plain": [
       "type"
      ]
     },
     "execution_count": 29,
     "metadata": {},
     "output_type": "execute_result"
    }
   ],
   "source": [
    "type(type(6 % 4))\n",
    "# Type"
   ]
  },
  {
   "cell_type": "code",
   "execution_count": 30,
   "id": "8d1464b2",
   "metadata": {},
   "outputs": [
    {
     "ename": "TypeError",
     "evalue": "can only concatenate str (not \"int\") to str",
     "output_type": "error",
     "traceback": [
      "\u001b[0;31m---------------------------------------------------------------------------\u001b[0m",
      "\u001b[0;31mTypeError\u001b[0m                                 Traceback (most recent call last)",
      "Cell \u001b[0;32mIn[30], line 1\u001b[0m\n\u001b[0;32m----> 1\u001b[0m \u001b[38;5;124;43m'\u001b[39;49m\u001b[38;5;124;43m3 + 4 is \u001b[39;49m\u001b[38;5;124;43m'\u001b[39;49m\u001b[43m \u001b[49m\u001b[38;5;241;43m+\u001b[39;49m\u001b[43m \u001b[49m\u001b[38;5;241;43m3\u001b[39;49m \u001b[38;5;241m+\u001b[39m \u001b[38;5;241m4\u001b[39m\n",
      "\u001b[0;31mTypeError\u001b[0m: can only concatenate str (not \"int\") to str"
     ]
    }
   ],
   "source": [
    "'3 + 4 is ' + 3 + 4\n",
    "# TypeError"
   ]
  },
  {
   "cell_type": "code",
   "execution_count": 31,
   "id": "f1ab2102",
   "metadata": {},
   "outputs": [
    {
     "data": {
      "text/plain": [
       "False"
      ]
     },
     "execution_count": 31,
     "metadata": {},
     "output_type": "execute_result"
    }
   ],
   "source": [
    "0 < 0\n",
    "# False"
   ]
  },
  {
   "cell_type": "code",
   "execution_count": 32,
   "id": "d24688de",
   "metadata": {},
   "outputs": [
    {
     "data": {
      "text/plain": [
       "False"
      ]
     },
     "execution_count": 32,
     "metadata": {},
     "output_type": "execute_result"
    }
   ],
   "source": [
    "'False' == False\n",
    "# False"
   ]
  },
  {
   "cell_type": "code",
   "execution_count": 33,
   "id": "70efea7d",
   "metadata": {},
   "outputs": [
    {
     "data": {
      "text/plain": [
       "False"
      ]
     },
     "execution_count": 33,
     "metadata": {},
     "output_type": "execute_result"
    }
   ],
   "source": [
    "True == 'True'\n",
    "#False"
   ]
  },
  {
   "cell_type": "code",
   "execution_count": 34,
   "id": "31be54a0",
   "metadata": {},
   "outputs": [
    {
     "data": {
      "text/plain": [
       "True"
      ]
     },
     "execution_count": 34,
     "metadata": {},
     "output_type": "execute_result"
    }
   ],
   "source": [
    "5 >= -5\n",
    "# True"
   ]
  },
  {
   "cell_type": "code",
   "execution_count": 35,
   "id": "507a145d",
   "metadata": {},
   "outputs": [
    {
     "data": {
      "text/plain": [
       "True"
      ]
     },
     "execution_count": 35,
     "metadata": {},
     "output_type": "execute_result"
    }
   ],
   "source": [
    "True or \"42\"\n",
    "# True"
   ]
  },
  {
   "cell_type": "code",
   "execution_count": 36,
   "id": "97642219",
   "metadata": {},
   "outputs": [
    {
     "data": {
      "text/plain": [
       "1"
      ]
     },
     "execution_count": 36,
     "metadata": {},
     "output_type": "execute_result"
    }
   ],
   "source": [
    "6 % 5\n",
    "# 1"
   ]
  },
  {
   "cell_type": "code",
   "execution_count": 37,
   "id": "09a80dc2",
   "metadata": {},
   "outputs": [
    {
     "data": {
      "text/plain": [
       "False"
      ]
     },
     "execution_count": 37,
     "metadata": {},
     "output_type": "execute_result"
    }
   ],
   "source": [
    "5 < 4 and 1 == 1\n",
    "#False"
   ]
  },
  {
   "cell_type": "code",
   "execution_count": 39,
   "id": "29dad48e",
   "metadata": {},
   "outputs": [
    {
     "data": {
      "text/plain": [
       "False"
      ]
     },
     "execution_count": 39,
     "metadata": {},
     "output_type": "execute_result"
    }
   ],
   "source": [
    "'codeup' == 'codeup' and 'codeup' == 'Codeup'\n",
    "# False"
   ]
  },
  {
   "cell_type": "code",
   "execution_count": 43,
   "id": "17dcab6e",
   "metadata": {},
   "outputs": [
    {
     "ename": "SyntaxError",
     "evalue": "invalid syntax (300978411.py, line 1)",
     "output_type": "error",
     "traceback": [
      "\u001b[0;36m  Cell \u001b[0;32mIn[43], line 1\u001b[0;36m\u001b[0m\n\u001b[0;31m    4 >= 0 and 1 !== '1'\u001b[0m\n\u001b[0m                   ^\u001b[0m\n\u001b[0;31mSyntaxError\u001b[0m\u001b[0;31m:\u001b[0m invalid syntax\n"
     ]
    }
   ],
   "source": [
    "4 >= 0 and 1 !== '1'\n",
    "# Error"
   ]
  },
  {
   "cell_type": "code",
   "execution_count": 47,
   "id": "87ba58d5",
   "metadata": {},
   "outputs": [
    {
     "data": {
      "text/plain": [
       "True"
      ]
     },
     "execution_count": 47,
     "metadata": {},
     "output_type": "execute_result"
    }
   ],
   "source": [
    "6 % 3 == 0\n",
    "# True"
   ]
  },
  {
   "cell_type": "code",
   "execution_count": 48,
   "id": "4a3de41f",
   "metadata": {},
   "outputs": [
    {
     "data": {
      "text/plain": [
       "True"
      ]
     },
     "execution_count": 48,
     "metadata": {},
     "output_type": "execute_result"
    }
   ],
   "source": [
    "5 % 2 != 0\n",
    "# True"
   ]
  },
  {
   "cell_type": "code",
   "execution_count": 49,
   "id": "07998031",
   "metadata": {},
   "outputs": [
    {
     "ename": "TypeError",
     "evalue": "can only concatenate list (not \"int\") to list",
     "output_type": "error",
     "traceback": [
      "\u001b[0;31m---------------------------------------------------------------------------\u001b[0m",
      "\u001b[0;31mTypeError\u001b[0m                                 Traceback (most recent call last)",
      "Cell \u001b[0;32mIn[49], line 1\u001b[0m\n\u001b[0;32m----> 1\u001b[0m \u001b[43m[\u001b[49m\u001b[38;5;241;43m1\u001b[39;49m\u001b[43m]\u001b[49m\u001b[43m \u001b[49m\u001b[38;5;241;43m+\u001b[39;49m\u001b[43m \u001b[49m\u001b[38;5;241;43m2\u001b[39;49m\n",
      "\u001b[0;31mTypeError\u001b[0m: can only concatenate list (not \"int\") to list"
     ]
    }
   ],
   "source": [
    "[1] + 2\n",
    "# TypeError"
   ]
  },
  {
   "cell_type": "code",
   "execution_count": 50,
   "id": "785bf0f2",
   "metadata": {},
   "outputs": [
    {
     "data": {
      "text/plain": [
       "[1, 2]"
      ]
     },
     "execution_count": 50,
     "metadata": {},
     "output_type": "execute_result"
    }
   ],
   "source": [
    "[1] + [2]\n",
    "# [1, 2]"
   ]
  },
  {
   "cell_type": "code",
   "execution_count": 51,
   "id": "e5b7648e",
   "metadata": {},
   "outputs": [
    {
     "data": {
      "text/plain": [
       "[1, 1]"
      ]
     },
     "execution_count": 51,
     "metadata": {},
     "output_type": "execute_result"
    }
   ],
   "source": [
    "[1] * 2\n",
    "# [1,1]"
   ]
  },
  {
   "cell_type": "code",
   "execution_count": 53,
   "id": "124a3b2d",
   "metadata": {},
   "outputs": [
    {
     "ename": "TypeError",
     "evalue": "can't multiply sequence by non-int of type 'list'",
     "output_type": "error",
     "traceback": [
      "\u001b[0;31m---------------------------------------------------------------------------\u001b[0m",
      "\u001b[0;31mTypeError\u001b[0m                                 Traceback (most recent call last)",
      "Cell \u001b[0;32mIn[53], line 1\u001b[0m\n\u001b[0;32m----> 1\u001b[0m \u001b[43m[\u001b[49m\u001b[38;5;241;43m1\u001b[39;49m\u001b[43m]\u001b[49m\u001b[43m \u001b[49m\u001b[38;5;241;43m*\u001b[39;49m\u001b[43m \u001b[49m\u001b[43m[\u001b[49m\u001b[38;5;241;43m2\u001b[39;49m\u001b[43m]\u001b[49m\n",
      "\u001b[0;31mTypeError\u001b[0m: can't multiply sequence by non-int of type 'list'"
     ]
    }
   ],
   "source": [
    "[1] * [2]\n",
    "# TypeError"
   ]
  },
  {
   "cell_type": "code",
   "execution_count": 54,
   "id": "0b04923c",
   "metadata": {},
   "outputs": [
    {
     "data": {
      "text/plain": [
       "True"
      ]
     },
     "execution_count": 54,
     "metadata": {},
     "output_type": "execute_result"
    }
   ],
   "source": [
    "[] + [] == []\n",
    "# True"
   ]
  },
  {
   "cell_type": "code",
   "execution_count": 55,
   "id": "eb6c71b9",
   "metadata": {},
   "outputs": [
    {
     "ename": "TypeError",
     "evalue": "unsupported operand type(s) for +: 'dict' and 'dict'",
     "output_type": "error",
     "traceback": [
      "\u001b[0;31m---------------------------------------------------------------------------\u001b[0m",
      "\u001b[0;31mTypeError\u001b[0m                                 Traceback (most recent call last)",
      "Cell \u001b[0;32mIn[55], line 1\u001b[0m\n\u001b[0;32m----> 1\u001b[0m \u001b[43m{\u001b[49m\u001b[43m}\u001b[49m\u001b[43m \u001b[49m\u001b[38;5;241;43m+\u001b[39;49m\u001b[43m \u001b[49m\u001b[43m{\u001b[49m\u001b[43m}\u001b[49m\n",
      "\u001b[0;31mTypeError\u001b[0m: unsupported operand type(s) for +: 'dict' and 'dict'"
     ]
    }
   ],
   "source": [
    "{} + {}\n",
    "# TypeError"
   ]
  },
  {
   "cell_type": "markdown",
   "id": "a2620cc2",
   "metadata": {},
   "source": [
    "4. Describe the following scenarios. You will need to create and assign variables and use operators.\n",
    "5. You have rented some movies for your kids:"
   ]
  },
  {
   "cell_type": "code",
   "execution_count": 61,
   "id": "cf0be214",
   "metadata": {},
   "outputs": [],
   "source": [
    "# The Little Mermaid for 3 days\n",
    "The_Little_Mermaid = 3"
   ]
  },
  {
   "cell_type": "code",
   "execution_count": 62,
   "id": "134d5ddf",
   "metadata": {},
   "outputs": [],
   "source": [
    "# Brother Bear for 5 days\n",
    "Brother_Bear = 5"
   ]
  },
  {
   "cell_type": "code",
   "execution_count": 63,
   "id": "fcf32ed8",
   "metadata": {},
   "outputs": [],
   "source": [
    "# Hercules for 1 day\n",
    "Hercules = 1"
   ]
  },
  {
   "cell_type": "markdown",
   "id": "2b491aa3",
   "metadata": {},
   "source": [
    "If the daily fee to rent a movie is 3 dollars, how much will you have to pay?\n"
   ]
  },
  {
   "cell_type": "code",
   "execution_count": 67,
   "id": "8c0c71b9",
   "metadata": {},
   "outputs": [],
   "source": [
    "Movie = 3"
   ]
  },
  {
   "cell_type": "code",
   "execution_count": 68,
   "id": "32db3a33",
   "metadata": {},
   "outputs": [
    {
     "data": {
      "text/plain": [
       "9"
      ]
     },
     "execution_count": 68,
     "metadata": {},
     "output_type": "execute_result"
    }
   ],
   "source": [
    "#The Little Mermaid\n",
    "The_Little_Mermaid * Movie"
   ]
  },
  {
   "cell_type": "code",
   "execution_count": 69,
   "id": "324b0b40",
   "metadata": {},
   "outputs": [
    {
     "data": {
      "text/plain": [
       "15"
      ]
     },
     "execution_count": 69,
     "metadata": {},
     "output_type": "execute_result"
    }
   ],
   "source": [
    "# Brother Bear\n",
    "Brother_Bear * Movie"
   ]
  },
  {
   "cell_type": "code",
   "execution_count": 70,
   "id": "cb2643e7",
   "metadata": {},
   "outputs": [
    {
     "data": {
      "text/plain": [
       "3"
      ]
     },
     "execution_count": 70,
     "metadata": {},
     "output_type": "execute_result"
    }
   ],
   "source": [
    "# Hercules\n",
    "Hercules * Movie"
   ]
  },
  {
   "cell_type": "code",
   "execution_count": 135,
   "id": "59c7a0fa",
   "metadata": {},
   "outputs": [
    {
     "data": {
      "text/plain": [
       "27"
      ]
     },
     "execution_count": 135,
     "metadata": {},
     "output_type": "execute_result"
    }
   ],
   "source": [
    "The_Little_Mermaid * Movie + Brother_Bear * Movie + Hercules * Movie"
   ]
  },
  {
   "cell_type": "code",
   "execution_count": 136,
   "id": "9e54521c",
   "metadata": {},
   "outputs": [],
   "source": [
    "# $27"
   ]
  },
  {
   "cell_type": "markdown",
   "id": "1c3f1cd9",
   "metadata": {},
   "source": [
    "6. Suppose you're working as a contractor for 3 companies: Google, Amazon and Facebook.\n",
    "\n",
    "They pay you the following hourly rates:"
   ]
  },
  {
   "cell_type": "code",
   "execution_count": 97,
   "id": "5c7c25cf",
   "metadata": {},
   "outputs": [],
   "source": [
    "# Hourly rate for Google\n",
    "Google_HR = 400"
   ]
  },
  {
   "cell_type": "code",
   "execution_count": 99,
   "id": "376f7a9d",
   "metadata": {},
   "outputs": [],
   "source": [
    "# Hourly rate for Amazon\n",
    "Amazon_HR = 380"
   ]
  },
  {
   "cell_type": "code",
   "execution_count": 103,
   "id": "4cf05ea7",
   "metadata": {},
   "outputs": [],
   "source": [
    "# Hourly rate for Facebook\n",
    "Fb_HR = 350"
   ]
  },
  {
   "cell_type": "markdown",
   "id": "fc39859d",
   "metadata": {},
   "source": [
    "This week you worked: 10 hours for Facebook, 6 hours for Google and 4 hours for Amazon."
   ]
  },
  {
   "cell_type": "code",
   "execution_count": 105,
   "id": "bb0091f1",
   "metadata": {},
   "outputs": [],
   "source": [
    "# Hours worked for Facebook\n",
    "Fb_hrs = 10"
   ]
  },
  {
   "cell_type": "code",
   "execution_count": 79,
   "id": "166170fe",
   "metadata": {},
   "outputs": [],
   "source": [
    "# Hours worked for Google\n",
    "Google_hrs = 6"
   ]
  },
  {
   "cell_type": "code",
   "execution_count": 101,
   "id": "3c9a70e4",
   "metadata": {},
   "outputs": [],
   "source": [
    "# Hours worked for Amazon\n",
    "Amazon_hrs = 4"
   ]
  },
  {
   "cell_type": "markdown",
   "id": "1299fb08",
   "metadata": {},
   "source": [
    "How much will you receive in payment for this week?"
   ]
  },
  {
   "cell_type": "code",
   "execution_count": 108,
   "id": "88625d21",
   "metadata": {},
   "outputs": [
    {
     "data": {
      "text/plain": [
       "7420"
      ]
     },
     "execution_count": 108,
     "metadata": {},
     "output_type": "execute_result"
    }
   ],
   "source": [
    "(Google_HR * Google_hrs) + (Amazon_HR * Amazon_hrs) + (Fb_HR * Fb_hrs)\n",
    "# $7420"
   ]
  },
  {
   "cell_type": "markdown",
   "id": "086bd061",
   "metadata": {},
   "source": [
    "7. A student can be enrolled to a class only if the class is not full and the class schedule does not conflict with her current schedule."
   ]
  },
  {
   "cell_type": "code",
   "execution_count": 156,
   "id": "ea9d1bda",
   "metadata": {},
   "outputs": [
    {
     "name": "stdout",
     "output_type": "stream",
     "text": [
      "enrolled\n"
     ]
    }
   ],
   "source": [
    "student = 1\n",
    "class_full = 2\n",
    "class_schedule = 3\n",
    "current_schedule = 4\n",
    "if student != class_full and class_schedule != current_schedule:\n",
    "    print(\"enrolled\")\n",
    "else:\n",
    "    print(\"denied\")"
   ]
  },
  {
   "cell_type": "markdown",
   "id": "b726b15d",
   "metadata": {},
   "source": [
    "8. A product offer can be applied only if people buys more than 2 items, and the offer has not expired. Premium members do not need to buy a specific amount of products."
   ]
  },
  {
   "cell_type": "code",
   "execution_count": 165,
   "id": "2db7ad63",
   "metadata": {},
   "outputs": [
    {
     "name": "stdout",
     "output_type": "stream",
     "text": [
      "approved\n"
     ]
    }
   ],
   "source": [
    "items_people_buy = 3\n",
    "offer = 1\n",
    "not_expired = 1\n",
    "premium_members = 2\n",
    "if (items_people_buy > 2 and offer == not_expired) or premium_members == items_people_buy:\n",
    "    print(\"approved\")\n",
    "else:\n",
    "    print(\"denied\")"
   ]
  },
  {
   "cell_type": "markdown",
   "id": "890732b1",
   "metadata": {},
   "source": [
    "9. Continue working in the data_types_and_variables.py file. Use the following code to follow the instructions below:\n",
    "Create a variable that holds a boolean value for each of the following conditions:"
   ]
  },
  {
   "cell_type": "markdown",
   "id": "650b46bc",
   "metadata": {},
   "source": [
    "The password must be at least 5 characters"
   ]
  },
  {
   "cell_type": "markdown",
   "id": "863df4bb",
   "metadata": {},
   "source": [
    "The password must be at least 5 characters\n",
    "\n",
    "The username must be no more than 20 characters\n",
    "\n",
    "The password must not be the same as the username\n",
    "\n",
    "Bonus Neither the username or password can start or end with whitespace"
   ]
  },
  {
   "cell_type": "code",
   "execution_count": null,
   "id": "14ac27e2",
   "metadata": {},
   "outputs": [],
   "source": [
    "username = 'codeup'\n",
    "password = 'notastrongpassword'\n"
   ]
  },
  {
   "cell_type": "code",
   "execution_count": null,
   "id": "d682fae9",
   "metadata": {},
   "outputs": [],
   "source": []
  },
  {
   "cell_type": "code",
   "execution_count": null,
   "id": "f32473c8",
   "metadata": {},
   "outputs": [],
   "source": []
  }
 ],
 "metadata": {
  "kernelspec": {
   "display_name": "Python 3 (ipykernel)",
   "language": "python",
   "name": "python3"
  },
  "language_info": {
   "codemirror_mode": {
    "name": "ipython",
    "version": 3
   },
   "file_extension": ".py",
   "mimetype": "text/x-python",
   "name": "python",
   "nbconvert_exporter": "python",
   "pygments_lexer": "ipython3",
   "version": "3.10.9"
  }
 },
 "nbformat": 4,
 "nbformat_minor": 5
}
