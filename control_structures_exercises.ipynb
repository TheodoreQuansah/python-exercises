{
 "cells": [
  {
   "cell_type": "markdown",
   "id": "88950f33",
   "metadata": {},
   "source": [
    "Conditional Basics\n",
    "\n",
    "Prompt the user for a day of the week, print out whether the day is Monday or not"
   ]
  },
  {
   "cell_type": "code",
   "execution_count": 25,
   "id": "3a07c1c4",
   "metadata": {},
   "outputs": [
    {
     "name": "stdout",
     "output_type": "stream",
     "text": [
      "I hate Mondays!\n"
     ]
    }
   ],
   "source": [
    "it_is_Monday = True\n",
    "\n",
    "if it_is_Monday:\n",
    "    print('I hate Mondays!')"
   ]
  },
  {
   "cell_type": "markdown",
   "id": "c035cb1b",
   "metadata": {},
   "source": [
    "Prompt the user for a day of the week, print out whether the day is a weekday or a weekend"
   ]
  },
  {
   "cell_type": "code",
   "execution_count": 26,
   "id": "50894b22",
   "metadata": {},
   "outputs": [
    {
     "name": "stdout",
     "output_type": "stream",
     "text": [
      "I have to go to work.\n"
     ]
    }
   ],
   "source": [
    "it_is_weekday = True\n",
    "\n",
    "if it_is_weekday:\n",
    "    print('I have to go to work.')\n",
    "else:\n",
    "    print('Party time!')\n",
    "\n"
   ]
  },
  {
   "cell_type": "markdown",
   "id": "a14941ab",
   "metadata": {},
   "source": [
    "Calculate a weekly paycheck, accounting for overtime pay. Create variables and make up values for:\n",
    "\n",
    "The number of hours worked in one week"
   ]
  },
  {
   "cell_type": "code",
   "execution_count": 22,
   "id": "c660e6e8",
   "metadata": {},
   "outputs": [],
   "source": [
    "hrs_wrkd = 68\n",
    "reg_hrs = 40\n",
    "ot_hrs = 18"
   ]
  },
  {
   "cell_type": "markdown",
   "id": "abbc5b4c",
   "metadata": {},
   "source": [
    "The hourly rate"
   ]
  },
  {
   "cell_type": "code",
   "execution_count": 20,
   "id": "c51b3f59",
   "metadata": {},
   "outputs": [],
   "source": [
    "hrly_rt = 25\n",
    "ot_hrly_rt = hrly_rt * 1.5"
   ]
  },
  {
   "cell_type": "markdown",
   "id": "40d0cc82",
   "metadata": {},
   "source": [
    "For calculating pay:\n",
    "\n",
    "For working 40 hours or less, each hour is paid at the hourly rate\n",
    "\n",
    "For working more than 40 hours\n",
    "\n",
    "the first 40 hours are paid at the hourly rate\n",
    "\n",
    "each hour after 40 is paid at time and a half (hourly rate * 1.5)"
   ]
  },
  {
   "cell_type": "code",
   "execution_count": 23,
   "id": "066d1001",
   "metadata": {},
   "outputs": [
    {
     "data": {
      "text/plain": [
       "1675.0"
      ]
     },
     "execution_count": 23,
     "metadata": {},
     "output_type": "execute_result"
    }
   ],
   "source": [
    "(reg_hrs * hrly_rt) + (ot_hrs * ot_hrly_rt)"
   ]
  },
  {
   "cell_type": "markdown",
   "id": "ef675afe",
   "metadata": {},
   "source": [
    "Loop Basics\n",
    "\n",
    "While\n",
    "\n",
    "Create an integer variable i with a value of 5. Create a while loop that runs so long as i is less than or equal to 15. Each loop iteration, output the current value of i, then increment i by one."
   ]
  },
  {
   "cell_type": "code",
   "execution_count": 24,
   "id": "9af95539",
   "metadata": {},
   "outputs": [
    {
     "name": "stdout",
     "output_type": "stream",
     "text": [
      "5\n",
      "6\n",
      "7\n",
      "8\n",
      "9\n",
      "10\n",
      "11\n",
      "12\n",
      "13\n",
      "14\n",
      "15\n"
     ]
    }
   ],
   "source": [
    "i = 5\n",
    "\n",
    "while i <= 15:\n",
    "    \n",
    "    print(i)\n",
    "    \n",
    "    i += 1"
   ]
  },
  {
   "cell_type": "markdown",
   "id": "2d43d7ac",
   "metadata": {},
   "source": [
    "Create a while loop that will count by 2's starting with 0 and ending at 100. Follow each number with a new line."
   ]
  },
  {
   "cell_type": "code",
   "execution_count": 36,
   "id": "d1dbc181",
   "metadata": {},
   "outputs": [
    {
     "name": "stdout",
     "output_type": "stream",
     "text": [
      "0\n",
      "2\n",
      "4\n",
      "6\n",
      "8\n",
      "10\n",
      "12\n",
      "14\n",
      "16\n",
      "18\n",
      "20\n",
      "22\n",
      "24\n",
      "26\n",
      "28\n",
      "30\n",
      "32\n",
      "34\n",
      "36\n",
      "38\n",
      "40\n",
      "42\n",
      "44\n",
      "46\n",
      "48\n",
      "50\n",
      "52\n",
      "54\n",
      "56\n",
      "58\n",
      "60\n",
      "62\n",
      "64\n",
      "66\n",
      "68\n",
      "70\n",
      "72\n",
      "74\n",
      "76\n",
      "78\n",
      "80\n",
      "82\n",
      "84\n",
      "86\n",
      "88\n",
      "90\n",
      "92\n",
      "94\n",
      "96\n",
      "98\n",
      "100\n"
     ]
    }
   ],
   "source": [
    "i = 0\n",
    "\n",
    "while i < 101:\n",
    "    \n",
    "    print(i)\n",
    "    \n",
    "    i += 2"
   ]
  },
  {
   "cell_type": "markdown",
   "id": "4b9be9d0",
   "metadata": {},
   "source": [
    "Create a while loop that starts at 2, and displays the number squared on each line while the number is less than 1,000,000. Output should equal"
   ]
  },
  {
   "cell_type": "code",
   "execution_count": 43,
   "id": "30e56bff",
   "metadata": {},
   "outputs": [
    {
     "name": "stdout",
     "output_type": "stream",
     "text": [
      "2\n",
      "4\n",
      "16\n",
      "256\n",
      "65536\n"
     ]
    }
   ],
   "source": [
    "i = 2\n",
    "\n",
    "while i < 1000000:\n",
    "    \n",
    "    print(i)\n",
    "    \n",
    "    i **= 2"
   ]
  },
  {
   "cell_type": "markdown",
   "id": "5c6f6af4",
   "metadata": {},
   "source": [
    "Write a while loop that uses print to create the output shown below."
   ]
  },
  {
   "cell_type": "code",
   "execution_count": 45,
   "id": "a48e421d",
   "metadata": {},
   "outputs": [
    {
     "name": "stdout",
     "output_type": "stream",
     "text": [
      "100\n",
      "95\n",
      "90\n",
      "85\n",
      "80\n",
      "75\n",
      "70\n",
      "65\n",
      "60\n",
      "55\n",
      "50\n",
      "45\n",
      "40\n",
      "35\n",
      "30\n",
      "25\n",
      "20\n",
      "15\n",
      "10\n",
      "5\n"
     ]
    }
   ],
   "source": [
    "i = 100\n",
    "\n",
    "while i > 0:\n",
    "    \n",
    "    print(i)\n",
    "    \n",
    "    i -= 5"
   ]
  },
  {
   "cell_type": "markdown",
   "id": "757ca9ff",
   "metadata": {},
   "source": [
    "For Loops\n",
    "\n",
    "Write some code using a for loop that prompts the user for a number, then shows a multiplication table up through 10 for that number.\n",
    "\n",
    "For example, if the user enters 7, your program should output:\n",
    "\n",
    "7 x 1 = 7\n",
    "\n",
    "7 x 2 = 14\n",
    "\n",
    "7 x 3 = 21\n",
    "\n",
    "7 x 4 = 28\n",
    "\n",
    "7 x 5 = 35\n",
    "\n",
    "7 x 6 = 42\n",
    "\n",
    "7 x 7 = 49\n",
    "\n",
    "7 x 8 = 56\n",
    "\n",
    "7 x 9 = 63\n",
    "\n",
    "7 x 10 = 70\n"
   ]
  },
  {
   "cell_type": "code",
   "execution_count": 57,
   "id": "31d5e7e6",
   "metadata": {},
   "outputs": [
    {
     "name": "stdout",
     "output_type": "stream",
     "text": [
      "Enter an integer: 12\n",
      "12 x 0 = 0\n",
      "12 x 1 = 12\n",
      "12 x 2 = 24\n",
      "12 x 3 = 36\n",
      "12 x 4 = 48\n",
      "12 x 5 = 60\n",
      "12 x 6 = 72\n",
      "12 x 7 = 84\n",
      "12 x 8 = 96\n",
      "12 x 9 = 108\n",
      "12 x 10 = 120\n",
      "12 x 11 = 132\n"
     ]
    }
   ],
   "source": [
    "num = int(input('Enter an integer: '))\n",
    "\n",
    "for i in range(num):\n",
    "    \n",
    "    print(num, 'x', i, '=', (num*i) )"
   ]
  },
  {
   "cell_type": "markdown",
   "id": "c3bb87cb",
   "metadata": {},
   "source": [
    "Create a for loop that uses print to create the output shown below.\n",
    "\n",
    "1\n",
    "\n",
    "22\n",
    "\n",
    "333\n",
    "\n",
    "4444\n",
    "\n",
    "55555\n",
    "\n",
    "666666\n",
    "\n",
    "7777777\n",
    "\n",
    "88888888\n",
    "\n",
    "999999999\n"
   ]
  },
  {
   "cell_type": "code",
   "execution_count": 29,
   "id": "bfdf147a",
   "metadata": {},
   "outputs": [
    {
     "name": "stdout",
     "output_type": "stream",
     "text": [
      "\n",
      "1\n",
      "22\n",
      "333\n",
      "4444\n",
      "55555\n",
      "666666\n",
      "7777777\n",
      "88888888\n",
      "999999999\n"
     ]
    }
   ],
   "source": [
    "for i in range(10):\n",
    "    \n",
    "    print(str(i)*i)"
   ]
  },
  {
   "cell_type": "markdown",
   "id": "333edc76",
   "metadata": {},
   "source": [
    "break and continue\n",
    "\n",
    "Write a program that prompts the user for a positive integer. Next write a loop that prints out the numbers from the number the user entered down to 1."
   ]
  },
  {
   "cell_type": "code",
   "execution_count": 37,
   "id": "cbd2a78e",
   "metadata": {},
   "outputs": [
    {
     "name": "stdout",
     "output_type": "stream",
     "text": [
      "Enter an integer: 1\n"
     ]
    },
    {
     "data": {
      "text/plain": [
       "1"
      ]
     },
     "execution_count": 37,
     "metadata": {},
     "output_type": "execute_result"
    }
   ],
   "source": [
    "int(input('Enter an integer: '))"
   ]
  },
  {
   "cell_type": "code",
   "execution_count": 45,
   "id": "fa402ddc",
   "metadata": {},
   "outputs": [
    {
     "name": "stdout",
     "output_type": "stream",
     "text": [
      "Enter an integer: 20\n",
      "20\n",
      "19\n",
      "18\n",
      "17\n",
      "16\n",
      "15\n",
      "14\n",
      "13\n",
      "12\n",
      "11\n",
      "10\n",
      "9\n",
      "8\n",
      "7\n",
      "6\n",
      "5\n",
      "4\n",
      "3\n",
      "2\n",
      "1\n"
     ]
    }
   ],
   "source": [
    "i = int(input('Enter an integer: '))\n",
    "\n",
    "while i > 0:\n",
    "    \n",
    "    print(i)\n",
    "    \n",
    "    i -= 1"
   ]
  },
  {
   "cell_type": "markdown",
   "id": "b47c8055",
   "metadata": {},
   "source": [
    "The input function can be used to prompt for input and use that input in your python code. Prompt the user to enter a positive number and write a loop that counts from 0 to that number. (Hints: note that the input function returns a string, so you'll need to convert this to a numeric type.)"
   ]
  },
  {
   "cell_type": "code",
   "execution_count": 20,
   "id": "d37f3b74",
   "metadata": {},
   "outputs": [
    {
     "name": "stdout",
     "output_type": "stream",
     "text": [
      "Enter an integer: 25\n"
     ]
    },
    {
     "data": {
      "text/plain": [
       "[0,\n",
       " 1,\n",
       " 2,\n",
       " 3,\n",
       " 4,\n",
       " 5,\n",
       " 6,\n",
       " 7,\n",
       " 8,\n",
       " 9,\n",
       " 10,\n",
       " 11,\n",
       " 12,\n",
       " 13,\n",
       " 14,\n",
       " 15,\n",
       " 16,\n",
       " 17,\n",
       " 18,\n",
       " 19,\n",
       " 20,\n",
       " 21,\n",
       " 22,\n",
       " 23,\n",
       " 24]"
      ]
     },
     "execution_count": 20,
     "metadata": {},
     "output_type": "execute_result"
    }
   ],
   "source": [
    "my_nums = list(range(0, int(input('Enter an integer: '))))\n",
    "nombre = []\n",
    "\n",
    "for i in my_nums:\n",
    "        nombre.append(i)\n",
    "        \n",
    "nombre"
   ]
  },
  {
   "cell_type": "markdown",
   "id": "bb810a46",
   "metadata": {},
   "source": [
    "Prompt the user for an odd number between 1 and 50. Use a loop and a break statement to continue prompting the user if they enter invalid input. (Hint: use the isdigit method on strings to determine this). Use a loop and the continue statement to output all the odd numbers between 1 and 50, except for the number the user entered.\n"
   ]
  },
  {
   "cell_type": "code",
   "execution_count": 26,
   "id": "c3343631",
   "metadata": {},
   "outputs": [
    {
     "name": "stdout",
     "output_type": "stream",
     "text": [
      "Enter an odd number between 1 and 50: 23\n",
      "1 is Odd number\n",
      "3 is Odd number\n",
      "5 is Odd number\n",
      "7 is Odd number\n",
      "9 is Odd number\n",
      "11 is Odd number\n",
      "13 is Odd number\n",
      "15 is Odd number\n",
      "17 is Odd number\n",
      "19 is Odd number\n",
      "21 is Odd number\n",
      "this is a number\n",
      "25 is Odd number\n",
      "27 is Odd number\n",
      "29 is Odd number\n",
      "31 is Odd number\n",
      "33 is Odd number\n",
      "35 is Odd number\n",
      "37 is Odd number\n",
      "39 is Odd number\n",
      "41 is Odd number\n",
      "43 is Odd number\n",
      "45 is Odd number\n",
      "47 is Odd number\n",
      "49 is Odd number\n",
      "enter an odd number between 1 and 50\n"
     ]
    }
   ],
   "source": [
    "odd_num = int(input(\"Enter an odd number between 1 and 50: \"))\n",
    "\n",
    "for num in range(1, 50):\n",
    "    \n",
    "    if num == odd_num:\n",
    "        \n",
    "        print('this is a number')\n",
    "    \n",
    "    elif (num % 2) != 0:  \n",
    "        \n",
    "       print(\"{0} is Odd number\".format(num)) \n",
    "        \n",
    "else:\n",
    "    print('enter an odd number between 1 and 50')\n",
    "    \n",
    "    \n",
    "       \n"
   ]
  },
  {
   "cell_type": "markdown",
   "id": "41816863",
   "metadata": {},
   "source": [
    "\n",
    "Fizzbuzz\n",
    "\n",
    "One of the most common interview questions for entry-level programmers is the FizzBuzz test. Developed by Imran Ghory, the test is designed to test basic looping and conditional logic skills.\n",
    "\n",
    "Write a program that prints the numbers from 1 to 100.\n"
   ]
  },
  {
   "cell_type": "code",
   "execution_count": 47,
   "id": "e9e4f785",
   "metadata": {},
   "outputs": [
    {
     "data": {
      "text/plain": [
       "[1,\n",
       " 2,\n",
       " 3,\n",
       " 4,\n",
       " 5,\n",
       " 6,\n",
       " 7,\n",
       " 8,\n",
       " 9,\n",
       " 10,\n",
       " 11,\n",
       " 12,\n",
       " 13,\n",
       " 14,\n",
       " 15,\n",
       " 16,\n",
       " 17,\n",
       " 18,\n",
       " 19,\n",
       " 20,\n",
       " 21,\n",
       " 22,\n",
       " 23,\n",
       " 24,\n",
       " 25,\n",
       " 26,\n",
       " 27,\n",
       " 28,\n",
       " 29,\n",
       " 30,\n",
       " 31,\n",
       " 32,\n",
       " 33,\n",
       " 34,\n",
       " 35,\n",
       " 36,\n",
       " 37,\n",
       " 38,\n",
       " 39,\n",
       " 40,\n",
       " 41,\n",
       " 42,\n",
       " 43,\n",
       " 44,\n",
       " 45,\n",
       " 46,\n",
       " 47,\n",
       " 48,\n",
       " 49,\n",
       " 50,\n",
       " 51,\n",
       " 52,\n",
       " 53,\n",
       " 54,\n",
       " 55,\n",
       " 56,\n",
       " 57,\n",
       " 58,\n",
       " 59,\n",
       " 60,\n",
       " 61,\n",
       " 62,\n",
       " 63,\n",
       " 64,\n",
       " 65,\n",
       " 66,\n",
       " 67,\n",
       " 68,\n",
       " 69,\n",
       " 70,\n",
       " 71,\n",
       " 72,\n",
       " 73,\n",
       " 74,\n",
       " 75,\n",
       " 76,\n",
       " 77,\n",
       " 78,\n",
       " 79,\n",
       " 80,\n",
       " 81,\n",
       " 82,\n",
       " 83,\n",
       " 84,\n",
       " 85,\n",
       " 86,\n",
       " 87,\n",
       " 88,\n",
       " 89,\n",
       " 90,\n",
       " 91,\n",
       " 92,\n",
       " 93,\n",
       " 94,\n",
       " 95,\n",
       " 96,\n",
       " 97,\n",
       " 98,\n",
       " 99]"
      ]
     },
     "execution_count": 47,
     "metadata": {},
     "output_type": "execute_result"
    }
   ],
   "source": [
    "num = list(range(1, 100))\n",
    "num"
   ]
  },
  {
   "cell_type": "markdown",
   "id": "9cb6e490",
   "metadata": {},
   "source": [
    "\n",
    "For multiples of three print \"Fizz\" instead of the number\n",
    "\n",
    "For the multiples of five print \"Buzz\".\n",
    "\n",
    "For numbers which are multiples of both three and five print \"FizzBuzz\"."
   ]
  },
  {
   "cell_type": "code",
   "execution_count": 47,
   "id": "0494704b",
   "metadata": {
    "scrolled": true
   },
   "outputs": [
    {
     "name": "stdout",
     "output_type": "stream",
     "text": [
      "fizzbuzz\n",
      "1\n",
      "2\n",
      "fizz\n",
      "4\n",
      "buzz\n",
      "fizz\n",
      "7\n",
      "8\n",
      "fizz\n",
      "buzz\n",
      "11\n",
      "fizz\n",
      "13\n",
      "14\n",
      "fizzbuzz\n",
      "16\n",
      "17\n",
      "fizz\n",
      "19\n",
      "buzz\n",
      "fizz\n",
      "22\n",
      "23\n",
      "fizz\n",
      "buzz\n",
      "26\n",
      "fizz\n",
      "28\n",
      "29\n",
      "fizzbuzz\n",
      "31\n",
      "32\n",
      "fizz\n",
      "34\n",
      "buzz\n",
      "fizz\n",
      "37\n",
      "38\n",
      "fizz\n",
      "buzz\n",
      "41\n",
      "fizz\n",
      "43\n",
      "44\n",
      "fizzbuzz\n",
      "46\n",
      "47\n",
      "fizz\n",
      "49\n",
      "buzz\n",
      "fizz\n",
      "52\n",
      "53\n",
      "fizz\n",
      "buzz\n",
      "56\n",
      "fizz\n",
      "58\n",
      "59\n",
      "fizzbuzz\n",
      "61\n",
      "62\n",
      "fizz\n",
      "64\n",
      "buzz\n",
      "fizz\n",
      "67\n",
      "68\n",
      "fizz\n",
      "buzz\n",
      "71\n",
      "fizz\n",
      "73\n",
      "74\n",
      "fizzbuzz\n",
      "76\n",
      "77\n",
      "fizz\n",
      "79\n",
      "buzz\n",
      "fizz\n",
      "82\n",
      "83\n",
      "fizz\n",
      "buzz\n",
      "86\n",
      "fizz\n",
      "88\n",
      "89\n",
      "fizzbuzz\n",
      "91\n",
      "92\n",
      "fizz\n",
      "94\n",
      "buzz\n",
      "fizz\n",
      "97\n",
      "98\n",
      "fizz\n"
     ]
    }
   ],
   "source": [
    "for num in range(100):\n",
    "    if num % 3 == 0 and num % 5 == 0: \n",
    "        print('fizzbuzz')\n",
    "        continue\n",
    "    elif num % 3 == 0:\n",
    "        print('fizz')\n",
    "        continue\n",
    "    elif num % 5 == 0:  \n",
    "        print('buzz') \n",
    "        continue\n",
    "    print(num)\n",
    "    \n",
    "\n",
    "  "
   ]
  },
  {
   "cell_type": "markdown",
   "id": "8cdb6834",
   "metadata": {},
   "source": [
    "Display a table of powers.\n",
    "\n",
    "Prompt the user to enter an integer\n",
    "\n",
    "Display a table of squares and cubes from 1 to the value entered\n",
    "\n",
    "Ask if the user wants to continue\n",
    "\n",
    "Assume that the user will enter valid data\n",
    "\n",
    "Only continue if the user agrees to"
   ]
  },
  {
   "cell_type": "code",
   "execution_count": 15,
   "id": "a20c4157",
   "metadata": {},
   "outputs": [
    {
     "name": "stdout",
     "output_type": "stream",
     "text": [
      "What number would you like to go up to? 5\n",
      "Number\t\tSquared\t\tCubed\n",
      "------\t\t------\t\t------\n",
      "1 \t\t| 1 \t\t| 1\n",
      "2 \t\t| 4 \t\t| 8\n",
      "3 \t\t| 9 \t\t| 27\n",
      "4 \t\t| 16 \t\t| 64\n",
      "5 \t\t| 25 \t\t| 125\n",
      "Do you want to continue? yes/no? no\n",
      "Okay, will stop!\n"
     ]
    }
   ],
   "source": [
    "def squared(i):\n",
    "    return i*i\n",
    "def cubed(i):\n",
    "    return i*i*i\n",
    "  \n",
    "def main():\n",
    "    start = 1\n",
    "    end=int(input(\"What number would you like to go up to? \"))\n",
    "    \n",
    "    \n",
    "    print(\"Number\\t\\tSquared\\t\\tCubed\")\n",
    "    print(\"------\\t\\t------\\t\\t------\")\n",
    "      \n",
    "    for i in range(start,end+1):\n",
    "        print(i,\"\\t\\t|\",squared(i),\"\\t\\t|\",cubed(i))\n",
    "        \n",
    "    while True:\n",
    "        a = input(\"Do you want to continue? yes/no? \")\n",
    "        if a==\"yes\":\n",
    "            print(\"Okay, will continue!\")\n",
    "            continue\n",
    "        elif a==\"no\":\n",
    "            print(\"Okay, will stop!\")\n",
    "            break\n",
    "        else:\n",
    "            print(\"Enter either yes/no\")\n",
    "main()"
   ]
  },
  {
   "cell_type": "markdown",
   "id": "9eb4e355",
   "metadata": {},
   "source": [
    "Convert given number grades into letter grades.\n",
    "\n",
    "Prompt the user for a numerical grade from 0 to 100\n",
    "\n",
    "Display the corresponding letter grade\n",
    "\n",
    "Prompt the user to continue\n",
    "\n",
    "Assume that the user will enter valid integers for the grades\n",
    "\n",
    "The application should only continue if the user agrees to\n",
    "Grade Ranges:\n",
    "\n",
    "A : 100 - 88\n",
    "\n",
    "B : 87 - 80\n",
    "\n",
    "C : 79 - 67\n",
    "\n",
    "D : 66 - 60\n",
    "\n",
    "F : 59 - 0"
   ]
  },
  {
   "cell_type": "code",
   "execution_count": 16,
   "id": "414c7be8",
   "metadata": {},
   "outputs": [
    {
     "name": "stdout",
     "output_type": "stream",
     "text": [
      "Please enter a grade: 82\n",
      "82 is a B\n",
      "Would you like to continue? yes/no: no\n"
     ]
    }
   ],
   "source": [
    "user_input = 'yes'\n",
    "while user_input.lower() == 'yes':\n",
    "    grade = int(input('Please enter a grade: '))\n",
    "    if grade >= 99 and grade <= 100:\n",
    "        print(f'{grade} is an A+')\n",
    "    elif grade >= 90:\n",
    "        print(f'{grade} is an A')\n",
    "    elif grade >= 88:\n",
    "        print(f'{grade} is an A-')\n",
    "    elif grade >= 86:\n",
    "        print(f'{grade} is a B+')\n",
    "    elif grade >= 82:\n",
    "        print(f'{grade} is a B')\n",
    "    elif grade >= 80:\n",
    "        print(f'{grade} is a B-')\n",
    "    elif grade >= 78:\n",
    "        print(f'{grade} is a C+')\n",
    "    elif grade >= 69:\n",
    "        print(f'{grade} is a C')\n",
    "    elif grade >= 67:\n",
    "        print(f'{grade} is a C-')\n",
    "    elif grade >= 65:\n",
    "        print(f'{grade} is a D+')\n",
    "    elif grade >= 62:\n",
    "        print(f'{grade} is a D')\n",
    "    elif grade >= 60:\n",
    "        print(f'{grade} is a D-')\n",
    "    elif grade <= 59:\n",
    "        print(f'{grade} is an F')\n",
    "    else:\n",
    "        print('Please enter a grade between 1-100')\n",
    "    user_input = input('Would you like to continue? yes/no: ')"
   ]
  },
  {
   "cell_type": "code",
   "execution_count": 21,
   "id": "13075d9e",
   "metadata": {},
   "outputs": [
    {
     "name": "stdout",
     "output_type": "stream",
     "text": [
      "Please enter a grade: 88\n",
      "88 is an A\n",
      "Would you like to continue? yes/no: no\n"
     ]
    }
   ],
   "source": [
    "user = 'yes'\n",
    "while user.lower() == 'yes':\n",
    "    grade = int(input('Please enter a grade: '))\n",
    "    if grade >= 88 and grade <= 100:\n",
    "        print(f'{grade} is an A')\n",
    "    elif grade >= 80:\n",
    "        print(f'{grade} is a B')\n",
    "    elif grade >= 67:\n",
    "        print(f'{grade} is a C')\n",
    "    elif grade >= 60:\n",
    "        print(f'{grade} is a D')\n",
    "    elif grade <= 59:\n",
    "        print(f'{grade} is an F')\n",
    "    else:\n",
    "        print('Please enter a grade between 1-100')\n",
    "    user = input('Would you like to continue? yes/no: ')"
   ]
  },
  {
   "cell_type": "markdown",
   "id": "ec35127e",
   "metadata": {},
   "source": [
    "Create a list of dictionaries where each dictionary represents a book that you have read. \n",
    "\n",
    "Each dictionary in the list should have the keys title, author, and genre. Loop through the list and print out information about each book.\n",
    "\n",
    "Prompt the user to enter a genre, then loop through your books list and print out the titles of all the books in that genre."
   ]
  },
  {
   "cell_type": "code",
   "execution_count": 23,
   "id": "09413fc1",
   "metadata": {},
   "outputs": [
    {
     "name": "stdout",
     "output_type": "stream",
     "text": [
      "Please enter a genre: fiction\n",
      "---\n",
      "title: Dune\n",
      "author: Frank Herbert,\n",
      "genre: fiction\n",
      "---\n",
      "title: Shatter Me\n",
      "author: Tahereh Mafi,\n",
      "genre: fiction\n"
     ]
    }
   ],
   "source": [
    "books = [\n",
    "    {'title': 'It ends with us','author': 'Colleen Hoover','genre': 'romance'},\n",
    "    {'title': 'it starts with us','author': 'Colleen Hoover','genre': 'romance'},\n",
    "    {'title': 'Dune','author': 'Frank Herbert,','genre': 'fiction'},\n",
    "    {'title': 'Everything, Everything','author': 'Nicola Yoon,','genre': 'romance'},\n",
    "    {'title': 'Shatter Me','author': 'Tahereh Mafi,','genre': 'fiction'}\n",
    "]\n",
    "\n",
    "selected_genre = input('Please enter a genre: ')\n",
    "selected_books = [book for book in books if book['genre'] == selected_genre]\n",
    "\n",
    "for book in selected_books:\n",
    "    print('---')\n",
    "    print('title: ' + book['title'])\n",
    "    print('author: ' + book['author'])\n",
    "    print('genre: ' + book['genre'])\n"
   ]
  }
 ],
 "metadata": {
  "kernelspec": {
   "display_name": "Python 3 (ipykernel)",
   "language": "python",
   "name": "python3"
  },
  "language_info": {
   "codemirror_mode": {
    "name": "ipython",
    "version": 3
   },
   "file_extension": ".py",
   "mimetype": "text/x-python",
   "name": "python",
   "nbconvert_exporter": "python",
   "pygments_lexer": "ipython3",
   "version": "3.10.9"
  }
 },
 "nbformat": 4,
 "nbformat_minor": 5
}
