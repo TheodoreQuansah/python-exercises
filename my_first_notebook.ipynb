{
 "cells": [
  {
   "cell_type": "code",
   "execution_count": 8,
   "id": "b92c5941",
   "metadata": {},
   "outputs": [
    {
     "name": "stdout",
     "output_type": "stream",
     "text": [
      "Hello, somerville\n"
     ]
    }
   ],
   "source": [
    "print('Hello, somerville')"
   ]
  },
  {
   "cell_type": "code",
   "execution_count": 9,
   "id": "25d110cc",
   "metadata": {},
   "outputs": [],
   "source": [
    "Somerville = ('T,E,M,J,N,N,M,A')"
   ]
  },
  {
   "cell_type": "code",
   "execution_count": 10,
   "id": "9008be66",
   "metadata": {},
   "outputs": [
    {
     "name": "stdout",
     "output_type": "stream",
     "text": [
      "T,E,M,J,N,N,M,A\n"
     ]
    }
   ],
   "source": [
    "print(Somerville)"
   ]
  },
  {
   "cell_type": "markdown",
   "id": "e975a387",
   "metadata": {},
   "source": [
    "Convert the selected cell to a markdown cell."
   ]
  },
  {
   "cell_type": "code",
   "execution_count": 5,
   "id": "dec93500",
   "metadata": {},
   "outputs": [],
   "source": [
    "#Convert the selected cell to a markdown cell by selecting the cell and typing 'M'."
   ]
  },
  {
   "cell_type": "markdown",
   "id": "fef1bd2b",
   "metadata": {},
   "source": [
    " Insert a new cell above the current cell."
   ]
  },
  {
   "cell_type": "code",
   "execution_count": 6,
   "id": "a46dfcec",
   "metadata": {},
   "outputs": [],
   "source": [
    "# Insert a new cell above the current cell by selecting the cell and typing 'A'."
   ]
  },
  {
   "cell_type": "markdown",
   "id": "03543039",
   "metadata": {},
   "source": [
    "Delete the selected cell."
   ]
  },
  {
   "cell_type": "code",
   "execution_count": 7,
   "id": "190a6907",
   "metadata": {},
   "outputs": [],
   "source": [
    "# Delete the selected cell by typing 'D'."
   ]
  },
  {
   "cell_type": "code",
   "execution_count": null,
   "id": "a2963ffe",
   "metadata": {},
   "outputs": [],
   "source": []
  }
 ],
 "metadata": {
  "kernelspec": {
   "display_name": "Python 3 (ipykernel)",
   "language": "python",
   "name": "python3"
  },
  "language_info": {
   "codemirror_mode": {
    "name": "ipython",
    "version": 3
   },
   "file_extension": ".py",
   "mimetype": "text/x-python",
   "name": "python",
   "nbconvert_exporter": "python",
   "pygments_lexer": "ipython3",
   "version": "3.10.9"
  }
 },
 "nbformat": 4,
 "nbformat_minor": 5
}
