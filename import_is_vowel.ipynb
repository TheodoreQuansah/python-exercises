{
 "cells": [
  {
   "cell_type": "markdown",
   "id": "9f1441ab-a9c9-4db7-b999-d0b7bc5b9550",
   "metadata": {},
   "source": [
    "Import and test 3 of the functions from your functions exercise file. Import each function in a different way:\n",
    "\n",
    "Run an interactive python session and import the module. Call the is_vowel function using the . syntax."
   ]
  },
  {
   "cell_type": "code",
   "execution_count": 29,
   "id": "99e32894-bc00-485c-80bb-fbd227ed2cfc",
   "metadata": {},
   "outputs": [],
   "source": [
    "import function_exercises as f"
   ]
  },
  {
   "cell_type": "code",
   "execution_count": 33,
   "id": "ab78e669",
   "metadata": {},
   "outputs": [
    {
     "name": "stdin",
     "output_type": "stream",
     "text": [
      "Enter an integer:  a\n"
     ]
    },
    {
     "data": {
      "text/plain": [
       "True"
      ]
     },
     "execution_count": 33,
     "metadata": {},
     "output_type": "execute_result"
    }
   ],
   "source": [
    "f.is_vowel(input('Enter an integer: '))"
   ]
  }
 ],
 "metadata": {
  "kernelspec": {
   "display_name": "Python 3 (ipykernel)",
   "language": "python",
   "name": "python3"
  },
  "language_info": {
   "codemirror_mode": {
    "name": "ipython",
    "version": 3
   },
   "file_extension": ".py",
   "mimetype": "text/x-python",
   "name": "python",
   "nbconvert_exporter": "python",
   "pygments_lexer": "ipython3",
   "version": "3.10.9"
  }
 },
 "nbformat": 4,
 "nbformat_minor": 5
}
