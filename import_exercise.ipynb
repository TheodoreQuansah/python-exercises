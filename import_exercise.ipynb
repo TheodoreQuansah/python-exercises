{
 "cells": [
  {
   "cell_type": "markdown",
   "id": "91afee81-96e0-4cde-8b9e-fe7fb47647a6",
   "metadata": {},
   "source": [
    "You will need to use imports to complete each exercise; in addition, these exercise will strengthen your problem solving and python coding skills.\n",
    "\n",
    "You will be directed to create specific files in part 1, for the rest you may do your work in either import_exercises.py or import_exercises.ipynb."
   ]
  },
  {
   "cell_type": "markdown",
   "id": "d4c4e74b-ce49-4690-b950-a37a16b896ee",
   "metadata": {},
   "source": [
    "1) Import and test 3 of the functions from your functions exercise file. Import each function in a different way:\n",
    "\n",
    "A) Run an interactive python session and import the module. Call the is_vowel function using the . syntax."
   ]
  },
  {
   "cell_type": "code",
   "execution_count": 15,
   "id": "cbecdfc6-8db9-4177-a224-4eb4c2072886",
   "metadata": {},
   "outputs": [
    {
     "name": "stdin",
     "output_type": "stream",
     "text": [
      "Enter an integer:  a\n"
     ]
    },
    {
     "data": {
      "text/plain": [
       "True"
      ]
     },
     "execution_count": 15,
     "metadata": {},
     "output_type": "execute_result"
    }
   ],
   "source": [
    "import function_exercises as f\n",
    "\n",
    "f.is_vowel(input('Enter an integer: '))"
   ]
  },
  {
   "cell_type": "markdown",
   "id": "e1261548-b0cc-4d35-992a-28c85c6215a0",
   "metadata": {},
   "source": [
    "B) Create a file named import_exercises.py. Within this file, use from to import the calculate_tip function directly. Call this function with values you choose and print the result."
   ]
  },
  {
   "cell_type": "code",
   "execution_count": 16,
   "id": "47d57d05-b4bd-45ec-b154-9ae579401b26",
   "metadata": {},
   "outputs": [
    {
     "name": "stdin",
     "output_type": "stream",
     "text": [
      "Enter an int:  100\n",
      "Enter an int:  0.5\n"
     ]
    },
    {
     "data": {
      "text/plain": [
       "50.0"
      ]
     },
     "execution_count": 16,
     "metadata": {},
     "output_type": "execute_result"
    }
   ],
   "source": [
    "from function_exercises import calculate_tip as ct\n",
    "ct()"
   ]
  },
  {
   "cell_type": "markdown",
   "id": "f44b7b9f-eec1-4ce3-afb9-9cf2f460918d",
   "metadata": {},
   "source": [
    "1c. Create a jupyter notebook named import_exercises.ipynb. Use from to import the get_letter_grade function and give it an alias. Test this function in your notebook."
   ]
  },
  {
   "cell_type": "code",
   "execution_count": 6,
   "id": "7ba3acd1-4130-465c-81f0-f35f3d7757ad",
   "metadata": {},
   "outputs": [],
   "source": [
    "from function_exercises import get_letter_grade as glg"
   ]
  },
  {
   "cell_type": "markdown",
   "id": "f0ca59d2-f3d1-491e-b580-87eabf5666b1",
   "metadata": {},
   "source": [
    "Make sure your code that tests the function imports is run from the same directory that your functions exercise file is in."
   ]
  },
  {
   "cell_type": "markdown",
   "id": "93f6ffab-7349-4e31-b893-f3406a874ab7",
   "metadata": {},
   "source": [
    "2) Read about and use the itertools module from the python standard library to help you solve the following problems. Note: Many of these functions in this library return an object, to see the results of the function, cast this object as a list.\n",
    "\n",
    "A) How many different ways can you combine a single letter from \"abc\" with either 1, 2, or 3?"
   ]
  },
  {
   "cell_type": "code",
   "execution_count": 18,
   "id": "51896ff5-b31d-44e0-9d4b-2e83639d2327",
   "metadata": {},
   "outputs": [
    {
     "data": {
      "text/plain": [
       "[('A', 'A'),\n",
       " ('A', 'B'),\n",
       " ('A', 'C'),\n",
       " ('B', 'A'),\n",
       " ('B', 'B'),\n",
       " ('B', 'C'),\n",
       " ('C', 'A'),\n",
       " ('C', 'B'),\n",
       " ('C', 'C')]"
      ]
     },
     "execution_count": 18,
     "metadata": {},
     "output_type": "execute_result"
    }
   ],
   "source": [
    "import itertools as it\n",
    "\n",
    "list(it.product('ABC', repeat = 2))"
   ]
  },
  {
   "cell_type": "markdown",
   "id": "ce450105-b429-4c46-8c14-f121b3adb1c0",
   "metadata": {},
   "source": [
    "B) How many different combinations are there of 2 letters from \"abcd\"?"
   ]
  },
  {
   "cell_type": "code",
   "execution_count": 19,
   "id": "517ef518-9fb1-42b8-9051-db1b1f63a58e",
   "metadata": {},
   "outputs": [
    {
     "data": {
      "text/plain": [
       "[('a', 'b'), ('a', 'c'), ('a', 'd'), ('b', 'c'), ('b', 'd'), ('c', 'd')]"
      ]
     },
     "execution_count": 19,
     "metadata": {},
     "output_type": "execute_result"
    }
   ],
   "source": [
    "list(it.combinations('abcd', 2))"
   ]
  },
  {
   "cell_type": "markdown",
   "id": "29637082-7302-435c-a26b-ff2b007ef27f",
   "metadata": {},
   "source": [
    "C) How many different permutations are there of 2 letters from \"abcd\"?"
   ]
  },
  {
   "cell_type": "code",
   "execution_count": 21,
   "id": "09cc339a-e4ff-41d4-bcad-cf0212f55f71",
   "metadata": {},
   "outputs": [
    {
     "data": {
      "text/plain": [
       "[('a', 'b'),\n",
       " ('a', 'c'),\n",
       " ('a', 'd'),\n",
       " ('b', 'a'),\n",
       " ('b', 'c'),\n",
       " ('b', 'd'),\n",
       " ('c', 'a'),\n",
       " ('c', 'b'),\n",
       " ('c', 'd'),\n",
       " ('d', 'a'),\n",
       " ('d', 'b'),\n",
       " ('d', 'c')]"
      ]
     },
     "execution_count": 21,
     "metadata": {},
     "output_type": "execute_result"
    }
   ],
   "source": [
    "list(it.permutations('abcd', 2))"
   ]
  },
  {
   "cell_type": "markdown",
   "id": "b831261c-9425-4145-b599-525b16d82f6e",
   "metadata": {},
   "source": [
    "3) Save this file as profiles.json inside of your exercises directory (right click -> save file as...).\n",
    "\n",
    "Use the load function from the json module to open this file.\n",
    "\n",
    "Your code should produce a list of dictionaries. \n",
    "\n",
    "Using this data, write some code that calculates and outputs the following information:"
   ]
  },
  {
   "cell_type": "markdown",
   "id": "61c7ef8f-4acc-4051-bf66-605e51f04554",
   "metadata": {},
   "source": [
    "A) Total number of users"
   ]
  },
  {
   "cell_type": "code",
   "execution_count": 27,
   "id": "77f68ae4-9f04-447f-b1e6-c6573df96091",
   "metadata": {},
   "outputs": [],
   "source": [
    "import json\n",
    "\n",
    "d = json.load(open('profiles.json'))"
   ]
  },
  {
   "cell_type": "markdown",
   "id": "7f4de45d-6350-4a21-9067-4ef1b2a86fef",
   "metadata": {},
   "source": [
    "B) Number of active users"
   ]
  },
  {
   "cell_type": "code",
   "execution_count": null,
   "id": "32a8f5df-87c7-4951-8aac-4ccaf7271eaa",
   "metadata": {},
   "outputs": [],
   "source": [
    "count_user = 0\n",
    "\n",
    "d[0]['isActive']\n",
    "\n",
    "for each_user in d:\n",
    "    \n",
    "    each_user['isActive']\n",
    "    \n",
    "    print(each_user['isActive'])\n",
    "    \n",
    "    if each_user['isActive'] == True:\n",
    "        \n",
    "        count_user+=1\n",
    "        \n",
    "print(count_user)\n",
    "    "
   ]
  },
  {
   "cell_type": "markdown",
   "id": "2433a885-3ee6-4d3c-b54c-21e143761646",
   "metadata": {},
   "source": [
    "C) Number of inactive users"
   ]
  },
  {
   "cell_type": "code",
   "execution_count": null,
   "id": "aa91adf0-1fcb-4ffb-aa86-91a41fd0a593",
   "metadata": {},
   "outputs": [],
   "source": [
    "len(d) - count_user"
   ]
  },
  {
   "cell_type": "markdown",
   "id": "ac55abdf-a8fc-43f9-92f7-8c1eb6a4b3b6",
   "metadata": {},
   "source": [
    "D) Grand total of balances for all users"
   ]
  },
  {
   "cell_type": "markdown",
   "id": "8c8eba66-05e6-48e0-a493-238b103cce2f",
   "metadata": {},
   "source": [
    "users = d\n",
    "\n",
    "grand_total = 0\n",
    "\n",
    "for user in users:\n",
    "\n",
    "    balance = user['balance']\n",
    "    \n",
    "    balance = balance.replace('$', '').replace(',', '')\n",
    "    \n",
    "    grand_total += float(balance)\n",
    "\n",
    "print(grand_total)"
   ]
  },
  {
   "cell_type": "markdown",
   "id": "000e96de-ac9b-4dc5-bde9-61e90560ab76",
   "metadata": {},
   "source": [
    "E) Average balance per user"
   ]
  },
  {
   "cell_type": "code",
   "execution_count": null,
   "id": "220a13a7-709a-45a9-ac7e-cb47a15f3dd9",
   "metadata": {},
   "outputs": [],
   "source": [
    "users = d\n",
    "\n",
    "total_balance = 0\n",
    "\n",
    "num_users = len(users)\n",
    "\n",
    "for user in users:\n",
    "    \n",
    "    balance = user['balance']\n",
    "    \n",
    "    balance = balance.replace('$', '').replace(',', '')\n",
    "    \n",
    "    total_balance += float(balance)\n",
    "\n",
    "average_balance = total_balance / num_users\n",
    "\n",
    "print(average_balance)"
   ]
  },
  {
   "cell_type": "markdown",
   "id": "0d5f03ff-2c9e-41f8-a4f1-e7d6bc0bf876",
   "metadata": {},
   "source": [
    "F) User with the lowest balance"
   ]
  },
  {
   "cell_type": "code",
   "execution_count": null,
   "id": "b1cd86ef-2767-4ef4-9618-12e221a35457",
   "metadata": {},
   "outputs": [],
   "source": [
    "users = d \n",
    "\n",
    "lowest_balance = float('inf')\n",
    "\n",
    "user_with_lowest_balance = None\n",
    "\n",
    "for user in users:\n",
    "    \n",
    "    balance = user['balance']\n",
    "    \n",
    "    balance = balance.replace('$', '').replace(',', '')\n",
    "    \n",
    "    balance = float(balance)\n",
    "    \n",
    "    if balance < lowest_balance:\n",
    "        \n",
    "        lowest_balance = balance\n",
    "        \n",
    "        user_with_lowest_balance = user\n",
    "\n",
    "print(lowest_balance)"
   ]
  },
  {
   "cell_type": "markdown",
   "id": "1485538f-fbd9-4d4b-b625-dee15d3681a1",
   "metadata": {},
   "source": [
    "G) User with the highest balance"
   ]
  },
  {
   "cell_type": "code",
   "execution_count": null,
   "id": "d0c23f55-5e8e-4ed5-b177-63697e721404",
   "metadata": {},
   "outputs": [],
   "source": [
    "users = d\n",
    "\n",
    "highest_balance = float('-inf')\n",
    "\n",
    "user_with_highest_balance = None\n",
    "\n",
    "for user in users:\n",
    "    \n",
    "    balance = user['balance']\n",
    "    \n",
    "    balance = balance.replace('$', '').replace(',', '')\n",
    "    \n",
    "    balance = float(balance)\n",
    "    \n",
    "    if balance > highest_balance:\n",
    "        \n",
    "        highest_balance = balance\n",
    "        \n",
    "        user_with_highest_balance = user\n",
    "        \n",
    "print(hightst_balance)"
   ]
  },
  {
   "cell_type": "markdown",
   "id": "ef8b31c1-3d06-4e00-891e-e7ccfb4281b4",
   "metadata": {},
   "source": [
    "H) Most common favorite fruit"
   ]
  },
  {
   "cell_type": "code",
   "execution_count": null,
   "id": "720edb20-4730-4991-8801-409f1bb67b19",
   "metadata": {},
   "outputs": [],
   "source": [
    "users = d \n",
    "\n",
    "fruit_counts = {}\n",
    "\n",
    "for user in users:\n",
    "    \n",
    "    favorite_fruit = user['favoriteFruit']\n",
    "    \n",
    "    if favorite_fruit in fruit_counts:\n",
    "        \n",
    "        fruit_counts[favorite_fruit] += 1\n",
    "        \n",
    "    else:\n",
    "        \n",
    "        fruit_counts[favorite_fruit] = 1\n",
    "\n",
    "most_common_fruit = max(fruit_counts, key=fruit_counts.get)\n",
    "\n",
    "print(most_common_fruit)"
   ]
  },
  {
   "cell_type": "markdown",
   "id": "b09f7bfd-08da-4def-97f3-ffafbc915d15",
   "metadata": {},
   "source": [
    "I) Least most common favorite fruit"
   ]
  },
  {
   "cell_type": "code",
   "execution_count": null,
   "id": "538feb29-0264-4838-80ca-13f024019671",
   "metadata": {},
   "outputs": [],
   "source": [
    "users = d \n",
    "\n",
    "fruit_counts = {}\n",
    "\n",
    "for user in users:\n",
    "    \n",
    "    favorite_fruit = user['favoriteFruit']\n",
    "    \n",
    "    if favorite_fruit in fruit_counts:\n",
    "        \n",
    "        fruit_counts[favorite_fruit] += 1\n",
    "        \n",
    "    else:\n",
    "        \n",
    "        fruit_counts[favorite_fruit] = 1\n",
    "\n",
    "least_common_fruit = min(fruit_counts, key=fruit_counts.get)\n",
    "\n",
    "print(least_common_fruit)"
   ]
  },
  {
   "cell_type": "markdown",
   "id": "73670566-b01c-4c1e-a1d1-b2e1c7ecf858",
   "metadata": {},
   "source": [
    "J) Total number of unread messages for all users"
   ]
  },
  {
   "cell_type": "code",
   "execution_count": null,
   "id": "ef424049-dd31-4248-8a66-11114567fb26",
   "metadata": {},
   "outputs": [],
   "source": [
    "users = d\n",
    "\n",
    "total_unread_messages = 0\n",
    "\n",
    "for user in users:\n",
    "    \n",
    "    greeting = user['greeting']\n",
    "    \n",
    "    unread_messages_start = greeting.find('You have ') + len('You have ')\n",
    "    \n",
    "    unread_messages_end = greeting.find(' unread')\n",
    "    \n",
    "    unread_messages_count = int(greeting[unread_messages_start:unread_messages_end])\n",
    "    \n",
    "    total_unread_messages += unread_messages_count\n",
    "    \n",
    "print(total_unread_messages)"
   ]
  }
 ],
 "metadata": {
  "kernelspec": {
   "display_name": "Python 3 (ipykernel)",
   "language": "python",
   "name": "python3"
  },
  "language_info": {
   "codemirror_mode": {
    "name": "ipython",
    "version": 3
   },
   "file_extension": ".py",
   "mimetype": "text/x-python",
   "name": "python",
   "nbconvert_exporter": "python",
   "pygments_lexer": "ipython3",
   "version": "3.10.9"
  }
 },
 "nbformat": 4,
 "nbformat_minor": 5
}
