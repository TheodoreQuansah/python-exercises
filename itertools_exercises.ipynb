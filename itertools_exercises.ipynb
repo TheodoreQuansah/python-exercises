{
 "cells": [
  {
   "cell_type": "markdown",
   "id": "784468f1-2dd6-4003-981e-f7558f9b9ae5",
   "metadata": {},
   "source": [
    "How many different ways can you combine a single letter from \"abc\" with either 1, 2, or 3?"
   ]
  },
  {
   "cell_type": "code",
   "execution_count": 27,
   "id": "a01d9148-8cf9-4fbc-91bc-f44b5d9e350e",
   "metadata": {},
   "outputs": [],
   "source": [
    "import itertools as it"
   ]
  },
  {
   "cell_type": "code",
   "execution_count": 46,
   "id": "54aa1177-f50a-44fe-b1d0-e1526311b40d",
   "metadata": {},
   "outputs": [
    {
     "data": {
      "text/plain": [
       "[('A', 'A'),\n",
       " ('A', 'B'),\n",
       " ('A', 'C'),\n",
       " ('B', 'A'),\n",
       " ('B', 'B'),\n",
       " ('B', 'C'),\n",
       " ('C', 'A'),\n",
       " ('C', 'B'),\n",
       " ('C', 'C')]"
      ]
     },
     "execution_count": 46,
     "metadata": {},
     "output_type": "execute_result"
    }
   ],
   "source": [
    "list(it.product('ABC', repeat = 2))\n"
   ]
  },
  {
   "cell_type": "markdown",
   "id": "20c9def3-f5cf-48ae-9adf-88c3913f4c93",
   "metadata": {},
   "source": [
    "How many different combinations are there of 2 letters from \"abcd\"?"
   ]
  },
  {
   "cell_type": "code",
   "execution_count": 47,
   "id": "3b401b20-d10c-484c-9f68-17aaaf9f4f04",
   "metadata": {},
   "outputs": [
    {
     "data": {
      "text/plain": [
       "[('a', 'b'), ('a', 'c'), ('a', 'd'), ('b', 'c'), ('b', 'd'), ('c', 'd')]"
      ]
     },
     "execution_count": 47,
     "metadata": {},
     "output_type": "execute_result"
    }
   ],
   "source": [
    "list(it.combinations('abcd', 2))"
   ]
  },
  {
   "cell_type": "markdown",
   "id": "4d956cfb-278e-4f34-8b0b-c6e1ee230dcd",
   "metadata": {},
   "source": [
    "How many different permutations are there of 2 letters from \"abcd\"?"
   ]
  },
  {
   "cell_type": "code",
   "execution_count": 48,
   "id": "64d0a13e-de33-45a2-84f5-400aae43c905",
   "metadata": {},
   "outputs": [
    {
     "data": {
      "text/plain": [
       "[('a', 'b'),\n",
       " ('a', 'c'),\n",
       " ('a', 'd'),\n",
       " ('b', 'a'),\n",
       " ('b', 'c'),\n",
       " ('b', 'd'),\n",
       " ('c', 'a'),\n",
       " ('c', 'b'),\n",
       " ('c', 'd'),\n",
       " ('d', 'a'),\n",
       " ('d', 'b'),\n",
       " ('d', 'c')]"
      ]
     },
     "execution_count": 48,
     "metadata": {},
     "output_type": "execute_result"
    }
   ],
   "source": [
    "list(it.permutations('abcd', 2))"
   ]
  },
  {
   "cell_type": "code",
   "execution_count": null,
   "id": "50852dc8-8ce5-404d-8f23-91c6f2bf39ed",
   "metadata": {},
   "outputs": [],
   "source": []
  },
  {
   "cell_type": "code",
   "execution_count": null,
   "id": "429f8167-63ee-4686-91b9-a4f54bec02db",
   "metadata": {},
   "outputs": [],
   "source": []
  }
 ],
 "metadata": {
  "kernelspec": {
   "display_name": "Python 3 (ipykernel)",
   "language": "python",
   "name": "python3"
  },
  "language_info": {
   "codemirror_mode": {
    "name": "ipython",
    "version": 3
   },
   "file_extension": ".py",
   "mimetype": "text/x-python",
   "name": "python",
   "nbconvert_exporter": "python",
   "pygments_lexer": "ipython3",
   "version": "3.10.9"
  }
 },
 "nbformat": 4,
 "nbformat_minor": 5
}
